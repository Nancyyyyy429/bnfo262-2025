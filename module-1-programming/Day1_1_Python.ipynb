{
 "cells": [
  {
   "cell_type": "markdown",
   "id": "2f351b15-fdc1-45e4-adaf-bf82b5c4e655",
   "metadata": {},
   "source": [
    "# Jupyter Notebook\n",
    "---\n",
    "Jupyter notebooks let you interactively run code and inspect your work in \"blocks.\""
   ]
  },
  {
   "cell_type": "code",
   "execution_count": null,
   "id": "dbe2206b-1bc8-4e15-8af3-9f9cc0f22daa",
   "metadata": {},
   "outputs": [],
   "source": [
    "\n",
    "print('Hello world')\n"
   ]
  }
 ],
 "metadata": {
  "kernelspec": {
   "display_name": "Python 3 (ipykernel)",
   "language": "python",
   "name": "python3"
  },
  "language_info": {
   "codemirror_mode": {
    "name": "ipython",
    "version": 3
   },
   "file_extension": ".py",
   "mimetype": "text/x-python",
   "name": "python",
   "nbconvert_exporter": "python",
   "pygments_lexer": "ipython3",
   "version": "3.12.8"
  }
 },
 "nbformat": 4,
 "nbformat_minor": 5
}
