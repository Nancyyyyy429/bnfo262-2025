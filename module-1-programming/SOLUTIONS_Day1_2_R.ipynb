{
 "cells": [
  {
   "cell_type": "markdown",
   "metadata": {},
   "source": [
    "# Introduction to R"
   ]
  },
  {
   "cell_type": "markdown",
   "metadata": {},
   "source": [
    "<div class=\"alert alert-block alert-info\">\n",
    "<b>Overview of R:</b> \n",
    "\n",
    "- R is a widely used programming language and as such has many resources available. If you're looking to do some data wrangling chances are someone before you has already had to do the same thing you're about to do and maybe even written a package for those specific operations so it's usually worth searching around for the specific analysis or visualization you need to do. \n",
    "\n",
    "- [RStudio](https://www.rstudio.com/) is a quite user-friendly interface and has some great capabilities when plotting and debugging. You can always run R in jupyter though, like we are doing here!\n",
    "\n",
    "- RStudio also provides several [cheatsheets](https://www.rstudio.com/resources/cheatsheets) for some of the most commonly used functionalities.\n",
    "\n",
    "- Additionally, when you know the name of a function you can directly access the documentation for said function by entering: ?functionOfInterest.\n",
    "\n",
    "- The power of R lies both in it's statistical capabilities as well as in the various plotting options to visualize the data. Higher level visualizations are usually performed using [ggplot2](https://ggplot2.tidyverse.org/) which has an enormous range of possibilities. You can find some examples in the [R Graph Gallery](http://www.r-graph-gallery.com/)\n",
    "\n",
    "</div>"
   ]
  },
  {
   "cell_type": "markdown",
   "metadata": {},
   "source": [
    "In this notebook, we will be covering the basics of R. The goal is for you to be able to interpret R code that will be used in future modules in this class. Here is a cheat sheet for R basics that may be a helpful resource for you along the way:\n",
    "- https://iqss.github.io/dss-workshops/R/Rintro/base-r-cheat-sheet.pdf"
   ]
  },
  {
   "cell_type": "markdown",
   "metadata": {},
   "source": [
    "### Getting started : R can be used to perform simple operations\n"
   ]
  },
  {
   "cell_type": "code",
   "execution_count": null,
   "metadata": {},
   "outputs": [],
   "source": [
    "# addition\n",
    "4 + 3"
   ]
  },
  {
   "cell_type": "code",
   "execution_count": null,
   "metadata": {},
   "outputs": [],
   "source": [
    "# subtraction\n",
    "4 - 1"
   ]
  },
  {
   "cell_type": "code",
   "execution_count": null,
   "metadata": {},
   "outputs": [],
   "source": [
    "# multiplication\n",
    "5 * 3"
   ]
  },
  {
   "cell_type": "code",
   "execution_count": null,
   "metadata": {},
   "outputs": [],
   "source": [
    "# division\n",
    "5/2"
   ]
  },
  {
   "cell_type": "code",
   "execution_count": null,
   "metadata": {},
   "outputs": [],
   "source": [
    "# raise a number to a power\n",
    "2^3"
   ]
  },
  {
   "cell_type": "code",
   "execution_count": null,
   "metadata": {},
   "outputs": [],
   "source": [
    "# take a root\n",
    "sqrt(8)"
   ]
  },
  {
   "cell_type": "markdown",
   "metadata": {},
   "source": [
    "### R data types "
   ]
  },
  {
   "cell_type": "code",
   "execution_count": null,
   "metadata": {},
   "outputs": [],
   "source": [
    "# character: \"a\", \"swc\"\n",
    "c <- 'c'\n",
    "typeof(c)"
   ]
  },
  {
   "cell_type": "code",
   "execution_count": null,
   "metadata": {},
   "outputs": [],
   "source": [
    "# numeric: 2, 15.5\n",
    "n <- 2.0\n",
    "typeof(n)"
   ]
  },
  {
   "cell_type": "code",
   "execution_count": null,
   "metadata": {},
   "outputs": [],
   "source": [
    "# integer: 2L (the L tells R to store this as an integer)\n",
    "i <- 2L\n",
    "typeof(i)"
   ]
  },
  {
   "cell_type": "code",
   "execution_count": null,
   "metadata": {},
   "outputs": [],
   "source": [
    "# logical: TRUE, FALSE\n",
    "l <- TRUE\n",
    "typeof(l)"
   ]
  },
  {
   "cell_type": "markdown",
   "metadata": {},
   "source": [
    "### Basics of data structures in R"
   ]
  },
  {
   "cell_type": "markdown",
   "metadata": {},
   "source": [
    "#### Atomic Vectors"
   ]
  },
  {
   "cell_type": "markdown",
   "metadata": {},
   "source": [
    "A vector is a simple data structure in R. It can be used to make more complex data structures in R. Atomic vectors can only contain one type of data: logical, integer, double, character. They are one-dimensional and can be initialized with ```c()```. Let's start by making a vector and storing it as variable x:"
   ]
  },
  {
   "cell_type": "code",
   "execution_count": null,
   "metadata": {},
   "outputs": [],
   "source": [
    "x <- c(3,1,2,4)\n",
    "x"
   ]
  },
  {
   "cell_type": "markdown",
   "metadata": {},
   "source": [
    "As we mentioned earlier, they can only store one type of data. In this case, we are storing numerical data."
   ]
  },
  {
   "cell_type": "code",
   "execution_count": null,
   "metadata": {},
   "outputs": [],
   "source": [
    "typeof(x)"
   ]
  },
  {
   "cell_type": "code",
   "execution_count": null,
   "metadata": {},
   "outputs": [],
   "source": [
    "#length of vector\n",
    "length(x)"
   ]
  },
  {
   "cell_type": "code",
   "execution_count": null,
   "metadata": {},
   "outputs": [],
   "source": [
    "#returning elements at positions 3 and 1\n",
    "x[c(3, 1)]"
   ]
  },
  {
   "cell_type": "code",
   "execution_count": null,
   "metadata": {},
   "outputs": [],
   "source": [
    "#omitting values\n",
    "x[-c(3, 1)]"
   ]
  },
  {
   "cell_type": "code",
   "execution_count": null,
   "metadata": {},
   "outputs": [],
   "source": [
    "#returning an ordered vector\n",
    "x[order(x)]"
   ]
  },
  {
   "cell_type": "markdown",
   "metadata": {},
   "source": [
    "We can pair vectors with mathematical functions. Here we see that applying a mathematical function to x applies it to all elements of x."
   ]
  },
  {
   "cell_type": "code",
   "execution_count": null,
   "metadata": {},
   "outputs": [],
   "source": [
    "sqrt(x)"
   ]
  },
  {
   "cell_type": "code",
   "execution_count": null,
   "metadata": {},
   "outputs": [],
   "source": [
    "x+1"
   ]
  },
  {
   "cell_type": "code",
   "execution_count": null,
   "metadata": {},
   "outputs": [],
   "source": [
    "x**2"
   ]
  },
  {
   "cell_type": "markdown",
   "metadata": {},
   "source": [
    "#### Lists\n",
    "A list in R is still a vector but (unlike an atomic vector) we are able to stores different elements in a list, where each element can be of a different type\n"
   ]
  },
  {
   "cell_type": "code",
   "execution_count": null,
   "metadata": {},
   "outputs": [],
   "source": [
    "# initialize with list()\n",
    "my.list <- list(c(1:3), 'a', c(TRUE, FALSE))"
   ]
  },
  {
   "cell_type": "code",
   "execution_count": null,
   "metadata": {},
   "outputs": [],
   "source": [
    "my.list"
   ]
  },
  {
   "cell_type": "code",
   "execution_count": null,
   "metadata": {},
   "outputs": [],
   "source": [
    "# can name each element\n",
    "my.named.list <- list(one = c(1:3), two = 'a', three = c(TRUE, FALSE))"
   ]
  },
  {
   "cell_type": "code",
   "execution_count": null,
   "metadata": {},
   "outputs": [],
   "source": [
    "my.named.list"
   ]
  },
  {
   "cell_type": "code",
   "execution_count": null,
   "metadata": {},
   "outputs": [],
   "source": [
    "# access specific list elements\n",
    "my.named.list$one"
   ]
  },
  {
   "cell_type": "code",
   "execution_count": null,
   "metadata": {},
   "outputs": [],
   "source": [
    "my.named.list[['two']]"
   ]
  },
  {
   "cell_type": "code",
   "execution_count": null,
   "metadata": {},
   "outputs": [],
   "source": [
    "my.named.list[[3]]"
   ]
  },
  {
   "cell_type": "code",
   "execution_count": null,
   "metadata": {},
   "outputs": [],
   "source": [
    "#Lists are made up of atomic vectors or other lists\n",
    "long.list <- list(first = 1, second = list(1,2,3))"
   ]
  },
  {
   "cell_type": "code",
   "execution_count": null,
   "metadata": {},
   "outputs": [],
   "source": [
    "long.list"
   ]
  },
  {
   "cell_type": "markdown",
   "metadata": {},
   "source": [
    "#### Matrix"
   ]
  },
  {
   "cell_type": "markdown",
   "metadata": {},
   "source": [
    "Matrices are multi-dimensional data structures that can only hold one type of data (usually numeric). A Matrix is a sub-category of Arrays and only has two dimensions while Arrays can have more\n",
    "\n",
    "\n",
    "Let's first make a matrix using the following syntax:\n",
    "\n",
    "```matrix(data, nrow, ncol, byrow, dimnames)```"
   ]
  },
  {
   "cell_type": "code",
   "execution_count": null,
   "metadata": {},
   "outputs": [],
   "source": [
    "# Here, we make a matrix, M, with 4 rows and 3 columns with numbers going sequentially from 3 to 14\n",
    "M <- matrix(c(3:14), nrow = 4, ncol =3, byrow = TRUE)\n",
    "print(M)"
   ]
  },
  {
   "cell_type": "code",
   "execution_count": null,
   "metadata": {},
   "outputs": [],
   "source": [
    "#check the dimensions of the matrix\n",
    "dim(M)"
   ]
  },
  {
   "cell_type": "code",
   "execution_count": null,
   "metadata": {},
   "outputs": [],
   "source": [
    "# adding row and column names to our matrix\n",
    "rownames <- c(\"a\", \"b\", \"c\", \"d\")\n",
    "colnames <- c(\"e\", \"f\", \"g\")\n",
    "P <- matrix(c(3:14), nrow = 4, ncol=3, byrow = TRUE, dimnames = list(rownames, colnames))\n",
    "print(P)"
   ]
  },
  {
   "cell_type": "code",
   "execution_count": null,
   "metadata": {},
   "outputs": [],
   "source": [
    "#all elements of matrices should be of the same type\n",
    "typeof((M))"
   ]
  },
  {
   "cell_type": "markdown",
   "metadata": {},
   "source": [
    "What if we want to access a certain element of the matrix?"
   ]
  },
  {
   "cell_type": "code",
   "execution_count": null,
   "metadata": {},
   "outputs": [],
   "source": [
    "#accessing the element in the first row, third column using column and row numbers\n",
    "P[1,3]"
   ]
  },
  {
   "cell_type": "code",
   "execution_count": null,
   "metadata": {},
   "outputs": [],
   "source": [
    "#accessing the element in the first row, third column using column and row names\n",
    "P['a','g']"
   ]
  },
  {
   "cell_type": "code",
   "execution_count": null,
   "metadata": {},
   "outputs": [],
   "source": [
    "#accessing all elements in a row of the matrix\n",
    "P[3,]"
   ]
  },
  {
   "cell_type": "code",
   "execution_count": null,
   "metadata": {},
   "outputs": [],
   "source": [
    "#accessing all elements in a column\n",
    "P[,1]"
   ]
  },
  {
   "cell_type": "markdown",
   "metadata": {},
   "source": [
    "Let's create another matrix to be able to try out some matrix mathematics"
   ]
  },
  {
   "cell_type": "code",
   "execution_count": null,
   "metadata": {},
   "outputs": [],
   "source": [
    "J <- matrix(c(3:14), nrow = 4, ncol=3, byrow = FALSE, dimnames = list(rownames, colnames))\n",
    "print(J)"
   ]
  },
  {
   "cell_type": "markdown",
   "metadata": {},
   "source": [
    "Just a reminder, here is how our matrix P looks like:"
   ]
  },
  {
   "cell_type": "code",
   "execution_count": null,
   "metadata": {},
   "outputs": [],
   "source": [
    "print(P)"
   ]
  },
  {
   "cell_type": "code",
   "execution_count": null,
   "metadata": {},
   "outputs": [],
   "source": [
    "# Add the matrices.\n",
    "addition_result <- P + J\n",
    "print(\"Result of addition:\")\n",
    "print(addition_result)"
   ]
  },
  {
   "cell_type": "code",
   "execution_count": null,
   "metadata": {},
   "outputs": [],
   "source": [
    "# Subtract the matrices\n",
    "subtraction_result <- P - J\n",
    "print(\"Result of subtraction:\")\n",
    "print(subtraction_result)"
   ]
  },
  {
   "cell_type": "code",
   "execution_count": null,
   "metadata": {},
   "outputs": [],
   "source": [
    "# Multiply the matrices.\n",
    "mult_result <- P * J\n",
    "print(\"Result of multiplication:\")\n",
    "print(mult_result)\n",
    "\n",
    "#note this is not the same thing as taking the dot product (commonly referred to as matrix multiplication)"
   ]
  },
  {
   "cell_type": "code",
   "execution_count": null,
   "metadata": {},
   "outputs": [],
   "source": [
    "# Divide the matrices\n",
    "div_result <- P / J\n",
    "print(\"Result of division:\")\n",
    "print(div_result)"
   ]
  },
  {
   "cell_type": "markdown",
   "metadata": {},
   "source": [
    "#### Dataframe"
   ]
  },
  {
   "cell_type": "markdown",
   "metadata": {},
   "source": [
    "Earlier, we had said that vectors can be used to build more complex data structures. Now let's see how we can use vectors to build more complex data structures by using multiple vectors to create a data frame, one of the most commonly used data structures. "
   ]
  },
  {
   "cell_type": "code",
   "execution_count": 1,
   "metadata": {},
   "outputs": [
    {
     "data": {
      "text/html": [
       "<table class=\"dataframe\">\n",
       "<caption>A data.frame: 4 × 3</caption>\n",
       "<thead>\n",
       "\t<tr><th scope=col>a</th><th scope=col>b</th><th scope=col>c</th></tr>\n",
       "\t<tr><th scope=col>&lt;dbl&gt;</th><th scope=col>&lt;chr&gt;</th><th scope=col>&lt;dbl&gt;</th></tr>\n",
       "</thead>\n",
       "<tbody>\n",
       "\t<tr><td>1</td><td>w</td><td>5</td></tr>\n",
       "\t<tr><td>0</td><td>r</td><td>6</td></tr>\n",
       "\t<tr><td>1</td><td>h</td><td>3</td></tr>\n",
       "\t<tr><td>1</td><td>i</td><td>1</td></tr>\n",
       "</tbody>\n",
       "</table>\n"
      ],
      "text/latex": [
       "A data.frame: 4 × 3\n",
       "\\begin{tabular}{lll}\n",
       " a & b & c\\\\\n",
       " <dbl> & <chr> & <dbl>\\\\\n",
       "\\hline\n",
       "\t 1 & w & 5\\\\\n",
       "\t 0 & r & 6\\\\\n",
       "\t 1 & h & 3\\\\\n",
       "\t 1 & i & 1\\\\\n",
       "\\end{tabular}\n"
      ],
      "text/markdown": [
       "\n",
       "A data.frame: 4 × 3\n",
       "\n",
       "| a &lt;dbl&gt; | b &lt;chr&gt; | c &lt;dbl&gt; |\n",
       "|---|---|---|\n",
       "| 1 | w | 5 |\n",
       "| 0 | r | 6 |\n",
       "| 1 | h | 3 |\n",
       "| 1 | i | 1 |\n",
       "\n"
      ],
      "text/plain": [
       "  a b c\n",
       "1 1 w 5\n",
       "2 0 r 6\n",
       "3 1 h 3\n",
       "4 1 i 1"
      ]
     },
     "metadata": {},
     "output_type": "display_data"
    }
   ],
   "source": [
    "a <- c(1,0,1,1)\n",
    "b <- c('w','r','h','i')\n",
    "c <- c(5,6,3,1)\n",
    "\n",
    "test_frame <-data.frame(a,b,c)\n",
    "test_frame"
   ]
  },
  {
   "cell_type": "markdown",
   "metadata": {},
   "source": [
    "Under the hood, data frames are lists and can be accessed as such"
   ]
  },
  {
   "cell_type": "code",
   "execution_count": 2,
   "metadata": {},
   "outputs": [
    {
     "data": {
      "text/html": [
       "<style>\n",
       ".list-inline {list-style: none; margin:0; padding: 0}\n",
       ".list-inline>li {display: inline-block}\n",
       ".list-inline>li:not(:last-child)::after {content: \"\\00b7\"; padding: 0 .5ex}\n",
       "</style>\n",
       "<ol class=list-inline><li>1</li><li>0</li><li>1</li><li>1</li></ol>\n"
      ],
      "text/latex": [
       "\\begin{enumerate*}\n",
       "\\item 1\n",
       "\\item 0\n",
       "\\item 1\n",
       "\\item 1\n",
       "\\end{enumerate*}\n"
      ],
      "text/markdown": [
       "1. 1\n",
       "2. 0\n",
       "3. 1\n",
       "4. 1\n",
       "\n",
       "\n"
      ],
      "text/plain": [
       "[1] 1 0 1 1"
      ]
     },
     "metadata": {},
     "output_type": "display_data"
    }
   ],
   "source": [
    "test_frame$a"
   ]
  },
  {
   "cell_type": "markdown",
   "metadata": {},
   "source": [
    "But they also have matrix-like properties: they possess rows and columns"
   ]
  },
  {
   "cell_type": "code",
   "execution_count": 3,
   "metadata": {},
   "outputs": [
    {
     "data": {
      "text/html": [
       "<style>\n",
       ".list-inline {list-style: none; margin:0; padding: 0}\n",
       ".list-inline>li {display: inline-block}\n",
       ".list-inline>li:not(:last-child)::after {content: \"\\00b7\"; padding: 0 .5ex}\n",
       "</style>\n",
       "<ol class=list-inline><li>4</li><li>3</li></ol>\n"
      ],
      "text/latex": [
       "\\begin{enumerate*}\n",
       "\\item 4\n",
       "\\item 3\n",
       "\\end{enumerate*}\n"
      ],
      "text/markdown": [
       "1. 4\n",
       "2. 3\n",
       "\n",
       "\n"
      ],
      "text/plain": [
       "[1] 4 3"
      ]
     },
     "metadata": {},
     "output_type": "display_data"
    }
   ],
   "source": [
    "dim(test_frame)"
   ]
  },
  {
   "cell_type": "code",
   "execution_count": 4,
   "metadata": {},
   "outputs": [
    {
     "data": {
      "text/html": [
       "<style>\n",
       ".list-inline {list-style: none; margin:0; padding: 0}\n",
       ".list-inline>li {display: inline-block}\n",
       ".list-inline>li:not(:last-child)::after {content: \"\\00b7\"; padding: 0 .5ex}\n",
       "</style>\n",
       "<ol class=list-inline><li>1</li><li>0</li><li>1</li><li>1</li></ol>\n"
      ],
      "text/latex": [
       "\\begin{enumerate*}\n",
       "\\item 1\n",
       "\\item 0\n",
       "\\item 1\n",
       "\\item 1\n",
       "\\end{enumerate*}\n"
      ],
      "text/markdown": [
       "1. 1\n",
       "2. 0\n",
       "3. 1\n",
       "4. 1\n",
       "\n",
       "\n"
      ],
      "text/plain": [
       "[1] 1 0 1 1"
      ]
     },
     "metadata": {},
     "output_type": "display_data"
    }
   ],
   "source": [
    "test_frame[,1]"
   ]
  },
  {
   "cell_type": "code",
   "execution_count": 5,
   "metadata": {},
   "outputs": [
    {
     "data": {
      "text/html": [
       "<table class=\"dataframe\">\n",
       "<caption>A data.frame: 1 × 3</caption>\n",
       "<thead>\n",
       "\t<tr><th></th><th scope=col>a</th><th scope=col>b</th><th scope=col>c</th></tr>\n",
       "\t<tr><th></th><th scope=col>&lt;dbl&gt;</th><th scope=col>&lt;chr&gt;</th><th scope=col>&lt;dbl&gt;</th></tr>\n",
       "</thead>\n",
       "<tbody>\n",
       "\t<tr><th scope=row>1</th><td>1</td><td>w</td><td>5</td></tr>\n",
       "</tbody>\n",
       "</table>\n"
      ],
      "text/latex": [
       "A data.frame: 1 × 3\n",
       "\\begin{tabular}{r|lll}\n",
       "  & a & b & c\\\\\n",
       "  & <dbl> & <chr> & <dbl>\\\\\n",
       "\\hline\n",
       "\t1 & 1 & w & 5\\\\\n",
       "\\end{tabular}\n"
      ],
      "text/markdown": [
       "\n",
       "A data.frame: 1 × 3\n",
       "\n",
       "| <!--/--> | a &lt;dbl&gt; | b &lt;chr&gt; | c &lt;dbl&gt; |\n",
       "|---|---|---|---|\n",
       "| 1 | 1 | w | 5 |\n",
       "\n"
      ],
      "text/plain": [
       "  a b c\n",
       "1 1 w 5"
      ]
     },
     "metadata": {},
     "output_type": "display_data"
    }
   ],
   "source": [
    "test_frame[1,]"
   ]
  },
  {
   "cell_type": "markdown",
   "metadata": {},
   "source": [
    "### Basic dataframe subsetting"
   ]
  },
  {
   "cell_type": "markdown",
   "metadata": {},
   "source": [
    "Often you'll have a lot of data stored in dataframes and won't be able to look at it all at once. To get an idea of the first and last rows of the data frame use the commands `head` and `tail`, respectively."
   ]
  },
  {
   "cell_type": "code",
   "execution_count": null,
   "metadata": {},
   "outputs": [],
   "source": [
    "head(test_frame)"
   ]
  },
  {
   "cell_type": "code",
   "execution_count": null,
   "metadata": {},
   "outputs": [],
   "source": [
    "tail(test_frame)"
   ]
  },
  {
   "cell_type": "markdown",
   "metadata": {},
   "source": [
    "We can also subset the dataframe using ```subset()```. Not familiar with how to use the subset function? Let's figure out how to use this function using ```?```"
   ]
  },
  {
   "cell_type": "code",
   "execution_count": null,
   "metadata": {
    "tags": []
   },
   "outputs": [],
   "source": [
    "?subset"
   ]
  },
  {
   "cell_type": "code",
   "execution_count": null,
   "metadata": {},
   "outputs": [],
   "source": [
    "subset(test_frame, b=='w')"
   ]
  },
  {
   "cell_type": "markdown",
   "metadata": {},
   "source": [
    "Finally, you can also subset a dataframe using logical statements and `[]`."
   ]
  },
  {
   "cell_type": "code",
   "execution_count": 6,
   "metadata": {},
   "outputs": [
    {
     "data": {
      "text/html": [
       "<style>\n",
       ".list-inline {list-style: none; margin:0; padding: 0}\n",
       ".list-inline>li {display: inline-block}\n",
       ".list-inline>li:not(:last-child)::after {content: \"\\00b7\"; padding: 0 .5ex}\n",
       "</style>\n",
       "<ol class=list-inline><li>TRUE</li><li>FALSE</li><li>FALSE</li><li>FALSE</li></ol>\n"
      ],
      "text/latex": [
       "\\begin{enumerate*}\n",
       "\\item TRUE\n",
       "\\item FALSE\n",
       "\\item FALSE\n",
       "\\item FALSE\n",
       "\\end{enumerate*}\n"
      ],
      "text/markdown": [
       "1. TRUE\n",
       "2. FALSE\n",
       "3. FALSE\n",
       "4. FALSE\n",
       "\n",
       "\n"
      ],
      "text/plain": [
       "[1]  TRUE FALSE FALSE FALSE"
      ]
     },
     "metadata": {},
     "output_type": "display_data"
    },
    {
     "data": {
      "text/html": [
       "<style>\n",
       ".list-inline {list-style: none; margin:0; padding: 0}\n",
       ".list-inline>li {display: inline-block}\n",
       ".list-inline>li:not(:last-child)::after {content: \"\\00b7\"; padding: 0 .5ex}\n",
       "</style>\n",
       "<ol class=list-inline><li>TRUE</li><li>FALSE</li><li>FALSE</li><li>FALSE</li></ol>\n"
      ],
      "text/latex": [
       "\\begin{enumerate*}\n",
       "\\item TRUE\n",
       "\\item FALSE\n",
       "\\item FALSE\n",
       "\\item FALSE\n",
       "\\end{enumerate*}\n"
      ],
      "text/markdown": [
       "1. TRUE\n",
       "2. FALSE\n",
       "3. FALSE\n",
       "4. FALSE\n",
       "\n",
       "\n"
      ],
      "text/plain": [
       "[1]  TRUE FALSE FALSE FALSE"
      ]
     },
     "metadata": {},
     "output_type": "display_data"
    }
   ],
   "source": [
    "#first let's see what happens when we apply a logical statement to a matrix column\n",
    "test_frame$b == 'w'\n",
    "test_frame[,2] == 'w'"
   ]
  },
  {
   "cell_type": "code",
   "execution_count": 7,
   "metadata": {},
   "outputs": [
    {
     "data": {
      "text/html": [
       "<table class=\"dataframe\">\n",
       "<caption>A data.frame: 1 × 3</caption>\n",
       "<thead>\n",
       "\t<tr><th></th><th scope=col>a</th><th scope=col>b</th><th scope=col>c</th></tr>\n",
       "\t<tr><th></th><th scope=col>&lt;dbl&gt;</th><th scope=col>&lt;chr&gt;</th><th scope=col>&lt;dbl&gt;</th></tr>\n",
       "</thead>\n",
       "<tbody>\n",
       "\t<tr><th scope=row>1</th><td>1</td><td>w</td><td>5</td></tr>\n",
       "</tbody>\n",
       "</table>\n"
      ],
      "text/latex": [
       "A data.frame: 1 × 3\n",
       "\\begin{tabular}{r|lll}\n",
       "  & a & b & c\\\\\n",
       "  & <dbl> & <chr> & <dbl>\\\\\n",
       "\\hline\n",
       "\t1 & 1 & w & 5\\\\\n",
       "\\end{tabular}\n"
      ],
      "text/markdown": [
       "\n",
       "A data.frame: 1 × 3\n",
       "\n",
       "| <!--/--> | a &lt;dbl&gt; | b &lt;chr&gt; | c &lt;dbl&gt; |\n",
       "|---|---|---|---|\n",
       "| 1 | 1 | w | 5 |\n",
       "\n"
      ],
      "text/plain": [
       "  a b c\n",
       "1 1 w 5"
      ]
     },
     "metadata": {},
     "output_type": "display_data"
    }
   ],
   "source": [
    "#now let's feed the logical statement into []\n",
    "logical <- test_frame$b == 'w'\n",
    "test_frame[logical,]"
   ]
  },
  {
   "cell_type": "code",
   "execution_count": 8,
   "metadata": {},
   "outputs": [
    {
     "data": {
      "text/html": [
       "<table class=\"dataframe\">\n",
       "<caption>A data.frame: 1 × 3</caption>\n",
       "<thead>\n",
       "\t<tr><th></th><th scope=col>a</th><th scope=col>b</th><th scope=col>c</th></tr>\n",
       "\t<tr><th></th><th scope=col>&lt;dbl&gt;</th><th scope=col>&lt;chr&gt;</th><th scope=col>&lt;dbl&gt;</th></tr>\n",
       "</thead>\n",
       "<tbody>\n",
       "\t<tr><th scope=row>1</th><td>1</td><td>w</td><td>5</td></tr>\n",
       "</tbody>\n",
       "</table>\n"
      ],
      "text/latex": [
       "A data.frame: 1 × 3\n",
       "\\begin{tabular}{r|lll}\n",
       "  & a & b & c\\\\\n",
       "  & <dbl> & <chr> & <dbl>\\\\\n",
       "\\hline\n",
       "\t1 & 1 & w & 5\\\\\n",
       "\\end{tabular}\n"
      ],
      "text/markdown": [
       "\n",
       "A data.frame: 1 × 3\n",
       "\n",
       "| <!--/--> | a &lt;dbl&gt; | b &lt;chr&gt; | c &lt;dbl&gt; |\n",
       "|---|---|---|---|\n",
       "| 1 | 1 | w | 5 |\n",
       "\n"
      ],
      "text/plain": [
       "  a b c\n",
       "1 1 w 5"
      ]
     },
     "metadata": {},
     "output_type": "display_data"
    }
   ],
   "source": [
    "#you can also combine these into one line\n",
    "test_frame[test_frame$b == 'w',]"
   ]
  },
  {
   "cell_type": "markdown",
   "metadata": {},
   "source": [
    "<div class=\"alert alert-block alert-success\">\n",
    "Your turn! Use your preferred method to subset test_frame to only contain rows where the sum of the two integer values is greater than 4.\n",
    "</div>"
   ]
  },
  {
   "cell_type": "code",
   "execution_count": 9,
   "metadata": {},
   "outputs": [
    {
     "name": "stdout",
     "output_type": "stream",
     "text": [
      "  a b c\n",
      "1 1 w 5\n",
      "2 0 r 6\n"
     ]
    }
   ],
   "source": [
    "## using subset\n",
    "subset_result <- subset(test_frame, a + c > 4)\n",
    "print(subset_result)"
   ]
  },
  {
   "cell_type": "code",
   "execution_count": 10,
   "metadata": {},
   "outputs": [
    {
     "name": "stdout",
     "output_type": "stream",
     "text": [
      "  a b c\n",
      "1 1 w 5\n",
      "2 0 r 6\n"
     ]
    }
   ],
   "source": [
    "## using bracket\n",
    "bracket_result <- test_frame[test_frame$a + test_frame$c > 4, ]\n",
    "print(bracket_result)"
   ]
  },
  {
   "cell_type": "markdown",
   "metadata": {},
   "source": [
    "### Functions"
   ]
  },
  {
   "cell_type": "markdown",
   "metadata": {},
   "source": [
    "Just like in python, we can create functions in R. However, the syntax is slightly different.\n",
    "\n",
    "In general, remember that functions are used to link several operations which can be repeated by typing just one command instead of having to re-type the whole thing. If you find yourself doing something over and over again it should probably go into a function...\n",
    "\n",
    "Functions help you clean up your code and make things more organized. Better organized means both less mistakes and it's easier to catch mistakes.\n",
    "\n",
    "The best thing about functions it that once you create and adequately test your function, you can continue to re-use it from analysis to analysis!"
   ]
  },
  {
   "cell_type": "markdown",
   "metadata": {},
   "source": [
    "<b>Basic structure of a function in R:</b>\n",
    "\n",
    "```\n",
    "#function documentation\n",
    "my_function <- function(my_input_argument) {\n",
    "    #some operation(s)\n",
    "    return(output)\n",
    "}\n",
    "```"
   ]
  },
  {
   "cell_type": "code",
   "execution_count": null,
   "metadata": {},
   "outputs": [],
   "source": [
    "fahrenheit_to_celsius <- function(temp_F){\n",
    "    temp_C <- (temp_F - 32) * 5 / 9\n",
    "    return(temp_C)\n",
    " }"
   ]
  },
  {
   "cell_type": "code",
   "execution_count": null,
   "metadata": {},
   "outputs": [],
   "source": [
    "fahrenheit_to_celsius(32)"
   ]
  },
  {
   "cell_type": "markdown",
   "metadata": {},
   "source": [
    "### Conditional Statements"
   ]
  },
  {
   "cell_type": "markdown",
   "metadata": {},
   "source": [
    "A simple if, else statement in R"
   ]
  },
  {
   "cell_type": "markdown",
   "metadata": {},
   "source": [
    "<b>Structure of an if, else statement:</b>\n",
    "\n",
    "```\n",
    "if( ){\n",
    "    statement 1\n",
    "} else {\n",
    "    statement 2\n",
    "}\n",
    "```"
   ]
  },
  {
   "cell_type": "code",
   "execution_count": null,
   "metadata": {},
   "outputs": [],
   "source": [
    "y <- 4\n",
    "\n",
    "if(y > 0){\n",
    "    print(\"Non-negative number\")\n",
    "} else {\n",
    "    print(\"Negative number\")\n",
    "}"
   ]
  },
  {
   "cell_type": "markdown",
   "metadata": {},
   "source": [
    "Adding multiple conditions"
   ]
  },
  {
   "cell_type": "markdown",
   "metadata": {},
   "source": [
    "<b>Structure of an if, else statement with multiple conditions:</b>\n",
    "\n",
    "```\n",
    "if ( ) {\n",
    "    statement 1\n",
    "} else if ( ) {\n",
    "    statement 2\n",
    "} else {\n",
    "    statement 3\n",
    "}\n",
    "```"
   ]
  },
  {
   "cell_type": "code",
   "execution_count": null,
   "metadata": {},
   "outputs": [],
   "source": [
    "if ( y > 5) {\n",
    "    print(\"y is larger than 5\")\n",
    "} else if ( y == 5) {\n",
    "    print(\"y is 5\")\n",
    "} else {\n",
    "    print(\"y is less than 5\")\n",
    "}"
   ]
  },
  {
   "cell_type": "markdown",
   "metadata": {},
   "source": [
    "<div class=\"alert alert-block alert-success\">\n",
    "Your turn! Write a function which takes a numeric input and returns the log10. If the input number is negative, instead print out \"Input is negative number\".\n",
    "</div>"
   ]
  },
  {
   "cell_type": "code",
   "execution_count": 11,
   "metadata": {},
   "outputs": [],
   "source": [
    "log10_function <- function(x) {\n",
    "  if (x <= 0) {\n",
    "    print(\"Input is negative number\")\n",
    "  } else {\n",
    "    return(log10(x))\n",
    "  }\n",
    "}"
   ]
  },
  {
   "cell_type": "code",
   "execution_count": 12,
   "metadata": {},
   "outputs": [
    {
     "name": "stdout",
     "output_type": "stream",
     "text": [
      "[1] 2\n",
      "[1] \"Input is negative number\"\n"
     ]
    }
   ],
   "source": [
    "# Example with a positive number\n",
    "result_positive <- log10_function(100)\n",
    "print(result_positive)\n",
    "\n",
    "# Example with a negative number\n",
    "log10_function(-5)"
   ]
  },
  {
   "cell_type": "markdown",
   "metadata": {},
   "source": [
    "### For and While Loops"
   ]
  },
  {
   "cell_type": "markdown",
   "metadata": {},
   "source": [
    "<b>For loop structure:</b>\n",
    "    \n",
    "```\n",
    "for () {\n",
    "    statement\n",
    "}\n",
    "```"
   ]
  },
  {
   "cell_type": "code",
   "execution_count": null,
   "metadata": {},
   "outputs": [],
   "source": [
    "x <- c(2,5,3,9,8,11,6)\n",
    "count <- 0\n",
    "for (val in x) {\n",
    "    if(val %% 2 == 0)  count = count+1\n",
    "}\n",
    "print(count)"
   ]
  },
  {
   "cell_type": "markdown",
   "metadata": {},
   "source": [
    "<b>While loop structure:</b>\n",
    "\n",
    "```\n",
    "while () {\n",
    "    statement\n",
    "}\n",
    "```"
   ]
  },
  {
   "cell_type": "code",
   "execution_count": null,
   "metadata": {},
   "outputs": [],
   "source": [
    "i <- 1\n",
    "while (i < 6) {\n",
    "    print(i)\n",
    "    i <- i+1\n",
    "}"
   ]
  },
  {
   "cell_type": "markdown",
   "metadata": {},
   "source": [
    "### Alternatives to Loops\n",
    "Although loops are very useful and easy to understand, sometimes you want to make your code more streamlined. There are multiple ways in R to avoid loops and use less lines of code."
   ]
  },
  {
   "cell_type": "markdown",
   "metadata": {},
   "source": [
    "Often loops aren't necessary, if you can find a function that does what you want it will automatically apply to every element in a vector!"
   ]
  },
  {
   "cell_type": "code",
   "execution_count": null,
   "metadata": {},
   "outputs": [],
   "source": [
    "my.vector <- seq(1,20,4)\n",
    "my.vector"
   ]
  },
  {
   "cell_type": "code",
   "execution_count": null,
   "metadata": {},
   "outputs": [],
   "source": [
    "#instead of using a for loop\n",
    "for (val in my.vector){\n",
    "    print(log10(val))\n",
    "}"
   ]
  },
  {
   "cell_type": "code",
   "execution_count": null,
   "metadata": {},
   "outputs": [],
   "source": [
    "#just use the log10 function directly on the vector\n",
    "log10(my.vector)"
   ]
  },
  {
   "cell_type": "markdown",
   "metadata": {},
   "source": [
    "#### lapply and sapply\n",
    "`lapply` will apply a function to every element in a list"
   ]
  },
  {
   "cell_type": "code",
   "execution_count": 13,
   "metadata": {},
   "outputs": [
    {
     "data": {
      "text/html": [
       "<dl>\n",
       "\t<dt>$a</dt>\n",
       "\t\t<dd><style>\n",
       ".list-inline {list-style: none; margin:0; padding: 0}\n",
       ".list-inline>li {display: inline-block}\n",
       ".list-inline>li:not(:last-child)::after {content: \"\\00b7\"; padding: 0 .5ex}\n",
       "</style>\n",
       "<ol class=list-inline><li>1</li><li>2</li><li>3</li></ol>\n",
       "</dd>\n",
       "\t<dt>$b</dt>\n",
       "\t\t<dd><style>\n",
       ".list-inline {list-style: none; margin:0; padding: 0}\n",
       ".list-inline>li {display: inline-block}\n",
       ".list-inline>li:not(:last-child)::after {content: \"\\00b7\"; padding: 0 .5ex}\n",
       "</style>\n",
       "<ol class=list-inline><li>7</li><li>8</li><li>9</li></ol>\n",
       "</dd>\n",
       "\t<dt>$c</dt>\n",
       "\t\t<dd><style>\n",
       ".list-inline {list-style: none; margin:0; padding: 0}\n",
       ".list-inline>li {display: inline-block}\n",
       ".list-inline>li:not(:last-child)::after {content: \"\\00b7\"; padding: 0 .5ex}\n",
       "</style>\n",
       "<ol class=list-inline><li>4</li><li>5</li><li>6</li></ol>\n",
       "</dd>\n",
       "</dl>\n"
      ],
      "text/latex": [
       "\\begin{description}\n",
       "\\item[\\$a] \\begin{enumerate*}\n",
       "\\item 1\n",
       "\\item 2\n",
       "\\item 3\n",
       "\\end{enumerate*}\n",
       "\n",
       "\\item[\\$b] \\begin{enumerate*}\n",
       "\\item 7\n",
       "\\item 8\n",
       "\\item 9\n",
       "\\end{enumerate*}\n",
       "\n",
       "\\item[\\$c] \\begin{enumerate*}\n",
       "\\item 4\n",
       "\\item 5\n",
       "\\item 6\n",
       "\\end{enumerate*}\n",
       "\n",
       "\\end{description}\n"
      ],
      "text/markdown": [
       "$a\n",
       ":   1. 1\n",
       "2. 2\n",
       "3. 3\n",
       "\n",
       "\n",
       "\n",
       "$b\n",
       ":   1. 7\n",
       "2. 8\n",
       "3. 9\n",
       "\n",
       "\n",
       "\n",
       "$c\n",
       ":   1. 4\n",
       "2. 5\n",
       "3. 6\n",
       "\n",
       "\n",
       "\n",
       "\n",
       "\n"
      ],
      "text/plain": [
       "$a\n",
       "[1] 1 2 3\n",
       "\n",
       "$b\n",
       "[1] 7 8 9\n",
       "\n",
       "$c\n",
       "[1] 4 5 6\n"
      ]
     },
     "metadata": {},
     "output_type": "display_data"
    }
   ],
   "source": [
    "my.list <- list(a = c(1,2,3), b = c(7,8,9), c = c(4,5,6))\n",
    "my.list"
   ]
  },
  {
   "cell_type": "code",
   "execution_count": null,
   "metadata": {},
   "outputs": [],
   "source": [
    "#You can't use a function on a list#\n",
    "max(my.list)"
   ]
  },
  {
   "cell_type": "code",
   "execution_count": null,
   "metadata": {
    "tags": []
   },
   "outputs": [],
   "source": [
    "#instead let's use lapply, but first let's figure out how to use it\n",
    "?lapply"
   ]
  },
  {
   "cell_type": "code",
   "execution_count": 14,
   "metadata": {},
   "outputs": [
    {
     "data": {
      "text/html": [
       "<dl>\n",
       "\t<dt>$a</dt>\n",
       "\t\t<dd>3</dd>\n",
       "\t<dt>$b</dt>\n",
       "\t\t<dd>9</dd>\n",
       "\t<dt>$c</dt>\n",
       "\t\t<dd>6</dd>\n",
       "</dl>\n"
      ],
      "text/latex": [
       "\\begin{description}\n",
       "\\item[\\$a] 3\n",
       "\\item[\\$b] 9\n",
       "\\item[\\$c] 6\n",
       "\\end{description}\n"
      ],
      "text/markdown": [
       "$a\n",
       ":   3\n",
       "$b\n",
       ":   9\n",
       "$c\n",
       ":   6\n",
       "\n",
       "\n"
      ],
      "text/plain": [
       "$a\n",
       "[1] 3\n",
       "\n",
       "$b\n",
       "[1] 9\n",
       "\n",
       "$c\n",
       "[1] 6\n"
      ]
     },
     "metadata": {},
     "output_type": "display_data"
    },
    {
     "data": {
      "text/html": [
       "'list'"
      ],
      "text/latex": [
       "'list'"
      ],
      "text/markdown": [
       "'list'"
      ],
      "text/plain": [
       "[1] \"list\""
      ]
     },
     "metadata": {},
     "output_type": "display_data"
    }
   ],
   "source": [
    "max.values <- lapply(my.list, max)\n",
    "max.values\n",
    "typeof(max.values)"
   ]
  },
  {
   "cell_type": "code",
   "execution_count": 15,
   "metadata": {},
   "outputs": [
    {
     "data": {
      "text/html": [
       "<style>\n",
       ".dl-inline {width: auto; margin:0; padding: 0}\n",
       ".dl-inline>dt, .dl-inline>dd {float: none; width: auto; display: inline-block}\n",
       ".dl-inline>dt::after {content: \":\\0020\"; padding-right: .5ex}\n",
       ".dl-inline>dt:not(:first-of-type) {padding-left: .5ex}\n",
       "</style><dl class=dl-inline><dt>a</dt><dd>3</dd><dt>b</dt><dd>9</dd><dt>c</dt><dd>6</dd></dl>\n"
      ],
      "text/latex": [
       "\\begin{description*}\n",
       "\\item[a] 3\n",
       "\\item[b] 9\n",
       "\\item[c] 6\n",
       "\\end{description*}\n"
      ],
      "text/markdown": [
       "a\n",
       ":   3b\n",
       ":   9c\n",
       ":   6\n",
       "\n"
      ],
      "text/plain": [
       "a b c \n",
       "3 9 6 "
      ]
     },
     "metadata": {},
     "output_type": "display_data"
    }
   ],
   "source": [
    "#this output isn't in an easy to use format, let's change that with unlist\n",
    "unlist(max.values)"
   ]
  },
  {
   "cell_type": "code",
   "execution_count": 16,
   "metadata": {},
   "outputs": [
    {
     "data": {
      "text/html": [
       "<style>\n",
       ".dl-inline {width: auto; margin:0; padding: 0}\n",
       ".dl-inline>dt, .dl-inline>dd {float: none; width: auto; display: inline-block}\n",
       ".dl-inline>dt::after {content: \":\\0020\"; padding-right: .5ex}\n",
       ".dl-inline>dt:not(:first-of-type) {padding-left: .5ex}\n",
       "</style><dl class=dl-inline><dt>a</dt><dd>3</dd><dt>b</dt><dd>9</dd><dt>c</dt><dd>6</dd></dl>\n"
      ],
      "text/latex": [
       "\\begin{description*}\n",
       "\\item[a] 3\n",
       "\\item[b] 9\n",
       "\\item[c] 6\n",
       "\\end{description*}\n"
      ],
      "text/markdown": [
       "a\n",
       ":   3b\n",
       ":   9c\n",
       ":   6\n",
       "\n"
      ],
      "text/plain": [
       "a b c \n",
       "3 9 6 "
      ]
     },
     "metadata": {},
     "output_type": "display_data"
    }
   ],
   "source": [
    "#and what about sapply, how does that compare?\n",
    "sapply(my.list, max)"
   ]
  },
  {
   "cell_type": "markdown",
   "metadata": {
    "tags": []
   },
   "source": [
    "#### apply\n",
    "`apply` will apply a function to every row/column in a matrix or dataframe"
   ]
  },
  {
   "cell_type": "code",
   "execution_count": 17,
   "metadata": {},
   "outputs": [
    {
     "data": {
      "text/html": [
       "<table class=\"dataframe\">\n",
       "<caption>A data.frame: 3 × 3</caption>\n",
       "<thead>\n",
       "\t<tr><th scope=col>a</th><th scope=col>b</th><th scope=col>c</th></tr>\n",
       "\t<tr><th scope=col>&lt;dbl&gt;</th><th scope=col>&lt;dbl&gt;</th><th scope=col>&lt;dbl&gt;</th></tr>\n",
       "</thead>\n",
       "<tbody>\n",
       "\t<tr><td>1</td><td>7</td><td>4</td></tr>\n",
       "\t<tr><td>2</td><td>8</td><td>5</td></tr>\n",
       "\t<tr><td>3</td><td>9</td><td>6</td></tr>\n",
       "</tbody>\n",
       "</table>\n"
      ],
      "text/latex": [
       "A data.frame: 3 × 3\n",
       "\\begin{tabular}{lll}\n",
       " a & b & c\\\\\n",
       " <dbl> & <dbl> & <dbl>\\\\\n",
       "\\hline\n",
       "\t 1 & 7 & 4\\\\\n",
       "\t 2 & 8 & 5\\\\\n",
       "\t 3 & 9 & 6\\\\\n",
       "\\end{tabular}\n"
      ],
      "text/markdown": [
       "\n",
       "A data.frame: 3 × 3\n",
       "\n",
       "| a &lt;dbl&gt; | b &lt;dbl&gt; | c &lt;dbl&gt; |\n",
       "|---|---|---|\n",
       "| 1 | 7 | 4 |\n",
       "| 2 | 8 | 5 |\n",
       "| 3 | 9 | 6 |\n",
       "\n"
      ],
      "text/plain": [
       "  a b c\n",
       "1 1 7 4\n",
       "2 2 8 5\n",
       "3 3 9 6"
      ]
     },
     "metadata": {},
     "output_type": "display_data"
    }
   ],
   "source": [
    "my.data <- data.frame(a = c(1,2,3), b = c(7,8,9), c = c(4,5,6))\n",
    "my.data"
   ]
  },
  {
   "cell_type": "code",
   "execution_count": null,
   "metadata": {
    "tags": []
   },
   "outputs": [],
   "source": [
    "#again, let's figure out how to use apply\n",
    "?apply"
   ]
  },
  {
   "cell_type": "code",
   "execution_count": 18,
   "metadata": {},
   "outputs": [
    {
     "data": {
      "text/html": [
       "<table class=\"dataframe\">\n",
       "<caption>A data.frame: 3 × 3</caption>\n",
       "<thead>\n",
       "\t<tr><th scope=col>a</th><th scope=col>b</th><th scope=col>c</th></tr>\n",
       "\t<tr><th scope=col>&lt;dbl&gt;</th><th scope=col>&lt;dbl&gt;</th><th scope=col>&lt;dbl&gt;</th></tr>\n",
       "</thead>\n",
       "<tbody>\n",
       "\t<tr><td>1</td><td>7</td><td>4</td></tr>\n",
       "\t<tr><td>2</td><td>8</td><td>5</td></tr>\n",
       "\t<tr><td>3</td><td>9</td><td>6</td></tr>\n",
       "</tbody>\n",
       "</table>\n"
      ],
      "text/latex": [
       "A data.frame: 3 × 3\n",
       "\\begin{tabular}{lll}\n",
       " a & b & c\\\\\n",
       " <dbl> & <dbl> & <dbl>\\\\\n",
       "\\hline\n",
       "\t 1 & 7 & 4\\\\\n",
       "\t 2 & 8 & 5\\\\\n",
       "\t 3 & 9 & 6\\\\\n",
       "\\end{tabular}\n"
      ],
      "text/markdown": [
       "\n",
       "A data.frame: 3 × 3\n",
       "\n",
       "| a &lt;dbl&gt; | b &lt;dbl&gt; | c &lt;dbl&gt; |\n",
       "|---|---|---|\n",
       "| 1 | 7 | 4 |\n",
       "| 2 | 8 | 5 |\n",
       "| 3 | 9 | 6 |\n",
       "\n"
      ],
      "text/plain": [
       "  a b c\n",
       "1 1 7 4\n",
       "2 2 8 5\n",
       "3 3 9 6"
      ]
     },
     "metadata": {},
     "output_type": "display_data"
    }
   ],
   "source": [
    "my.data"
   ]
  },
  {
   "cell_type": "code",
   "execution_count": 19,
   "metadata": {},
   "outputs": [
    {
     "data": {
      "text/html": [
       "<style>\n",
       ".list-inline {list-style: none; margin:0; padding: 0}\n",
       ".list-inline>li {display: inline-block}\n",
       ".list-inline>li:not(:last-child)::after {content: \"\\00b7\"; padding: 0 .5ex}\n",
       "</style>\n",
       "<ol class=list-inline><li>7</li><li>8</li><li>9</li></ol>\n"
      ],
      "text/latex": [
       "\\begin{enumerate*}\n",
       "\\item 7\n",
       "\\item 8\n",
       "\\item 9\n",
       "\\end{enumerate*}\n"
      ],
      "text/markdown": [
       "1. 7\n",
       "2. 8\n",
       "3. 9\n",
       "\n",
       "\n"
      ],
      "text/plain": [
       "[1] 7 8 9"
      ]
     },
     "metadata": {},
     "output_type": "display_data"
    },
    {
     "data": {
      "text/html": [
       "<style>\n",
       ".dl-inline {width: auto; margin:0; padding: 0}\n",
       ".dl-inline>dt, .dl-inline>dd {float: none; width: auto; display: inline-block}\n",
       ".dl-inline>dt::after {content: \":\\0020\"; padding-right: .5ex}\n",
       ".dl-inline>dt:not(:first-of-type) {padding-left: .5ex}\n",
       "</style><dl class=dl-inline><dt>a</dt><dd>3</dd><dt>b</dt><dd>9</dd><dt>c</dt><dd>6</dd></dl>\n"
      ],
      "text/latex": [
       "\\begin{description*}\n",
       "\\item[a] 3\n",
       "\\item[b] 9\n",
       "\\item[c] 6\n",
       "\\end{description*}\n"
      ],
      "text/markdown": [
       "a\n",
       ":   3b\n",
       ":   9c\n",
       ":   6\n",
       "\n"
      ],
      "text/plain": [
       "a b c \n",
       "3 9 6 "
      ]
     },
     "metadata": {},
     "output_type": "display_data"
    }
   ],
   "source": [
    "apply(my.data, 1, max)\n",
    "apply(my.data, 2, max)"
   ]
  },
  {
   "cell_type": "markdown",
   "metadata": {},
   "source": [
    "<div class=\"alert alert-block alert-success\">\n",
    "Your turn! Use your preferred apply commands to get the minimum values in my.list and my.data\n",
    "</div>"
   ]
  },
  {
   "cell_type": "code",
   "execution_count": 20,
   "metadata": {},
   "outputs": [
    {
     "data": {
      "text/html": [
       "<dl>\n",
       "\t<dt>$a</dt>\n",
       "\t\t<dd>1</dd>\n",
       "\t<dt>$b</dt>\n",
       "\t\t<dd>7</dd>\n",
       "\t<dt>$c</dt>\n",
       "\t\t<dd>4</dd>\n",
       "</dl>\n"
      ],
      "text/latex": [
       "\\begin{description}\n",
       "\\item[\\$a] 1\n",
       "\\item[\\$b] 7\n",
       "\\item[\\$c] 4\n",
       "\\end{description}\n"
      ],
      "text/markdown": [
       "$a\n",
       ":   1\n",
       "$b\n",
       ":   7\n",
       "$c\n",
       ":   4\n",
       "\n",
       "\n"
      ],
      "text/plain": [
       "$a\n",
       "[1] 1\n",
       "\n",
       "$b\n",
       "[1] 7\n",
       "\n",
       "$c\n",
       "[1] 4\n"
      ]
     },
     "metadata": {},
     "output_type": "display_data"
    }
   ],
   "source": [
    "lapply(my.list, min)"
   ]
  },
  {
   "cell_type": "code",
   "execution_count": 21,
   "metadata": {},
   "outputs": [
    {
     "data": {
      "text/html": [
       "1"
      ],
      "text/latex": [
       "1"
      ],
      "text/markdown": [
       "1"
      ],
      "text/plain": [
       "[1] 1"
      ]
     },
     "metadata": {},
     "output_type": "display_data"
    },
    {
     "data": {
      "text/html": [
       "1"
      ],
      "text/latex": [
       "1"
      ],
      "text/markdown": [
       "1"
      ],
      "text/plain": [
       "[1] 1"
      ]
     },
     "metadata": {},
     "output_type": "display_data"
    }
   ],
   "source": [
    "# Find the minimum value across the entire dataframe\n",
    "min(apply(my.data, 2, min))\n",
    "min(apply(my.data, 1, min))"
   ]
  },
  {
   "cell_type": "code",
   "execution_count": 22,
   "metadata": {},
   "outputs": [
    {
     "data": {
      "text/html": [
       "1"
      ],
      "text/latex": [
       "1"
      ],
      "text/markdown": [
       "1"
      ],
      "text/plain": [
       "[1] 1"
      ]
     },
     "metadata": {},
     "output_type": "display_data"
    }
   ],
   "source": [
    "## or simply, use min\n",
    "min(my.data)"
   ]
  },
  {
   "cell_type": "markdown",
   "metadata": {
    "tags": []
   },
   "source": [
    "### R practice"
   ]
  },
  {
   "cell_type": "markdown",
   "metadata": {},
   "source": [
    "<div class=\"alert alert-block alert-info\">\n",
    "    \n",
    "Let's practice using R to analyze some data using data manipulation and visualizations. We will use publicly-available data <a href=\"https://www.ncbi.nlm.nih.gov/geo/query/acc.cgi?acc=GSE166925)\">GSE166925</a> from NCBI GEO with inflammatory bowel disease and colorectal cancer patients.\n",
    "     \n",
    "<br><br> \n",
    "In this practice, we will only focus on the meta-data associated with the RNA-seq data. A metadata file is the one with information about the samples (ex: sample ID, disease status, gender, etc.) where each row represents a sample and columns contain the various information\n",
    "<br><br>     \n",
    "Remember, if you're not sure about how to get started, you can always google!\n",
    "</div>\n",
    "\n"
   ]
  },
  {
   "cell_type": "markdown",
   "metadata": {},
   "source": [
    "### Data Manipulation\n",
    "We need to format the data in a way that we can use for later analyses/visualizations.\n",
    "\n",
    "Let's read in the sample metadata table that was saved to GSE166925-meta.tsv (file location: `~/module-1-programming/data/GSE166925-meta.tsv`) into a `meta` dataframe object. We can use the [`read.table()`](https://www.rdocumentation.org/packages/utils/versions/3.6.2/topics/read.table) function to generate dataframes from files."
   ]
  },
  {
   "cell_type": "code",
   "execution_count": 1,
   "metadata": {},
   "outputs": [
    {
     "data": {
      "text/html": [
       "<table class=\"dataframe\">\n",
       "<caption>A data.frame: 6 × 7</caption>\n",
       "<thead>\n",
       "\t<tr><th></th><th scope=col>title</th><th scope=col>disease.ch1</th><th scope=col>gender.ch1</th><th scope=col>inflammation_status.ch1</th><th scope=col>nancy_score.ch1</th><th scope=col>patient_age.ch1</th><th scope=col>site_taken.ch1</th></tr>\n",
       "\t<tr><th></th><th scope=col>&lt;chr&gt;</th><th scope=col>&lt;chr&gt;</th><th scope=col>&lt;chr&gt;</th><th scope=col>&lt;chr&gt;</th><th scope=col>&lt;int&gt;</th><th scope=col>&lt;int&gt;</th><th scope=col>&lt;chr&gt;</th></tr>\n",
       "</thead>\n",
       "<tbody>\n",
       "\t<tr><th scope=row>GSM5088383</th><td>UC_I_LI_M_1 </td><td>UC</td><td>male  </td><td>inflamed  </td><td> 2</td><td>56</td><td>large_intestine</td></tr>\n",
       "\t<tr><th scope=row>GSM5088385</th><td>UC_NA_LI_F_2</td><td>UC</td><td>female</td><td>inflamed  </td><td> 4</td><td>63</td><td>large_intestine</td></tr>\n",
       "\t<tr><th scope=row>GSM5088387</th><td>CD_I_SI_F_3 </td><td>CD</td><td>female</td><td>inflamed  </td><td> 4</td><td>56</td><td>small_intestine</td></tr>\n",
       "\t<tr><th scope=row>GSM5088389</th><td>CD_I_SI_M_4 </td><td>CD</td><td>male  </td><td>inflamed  </td><td>NA</td><td>33</td><td>small_intestine</td></tr>\n",
       "\t<tr><th scope=row>GSM5088391</th><td>CD_I_LI_M_5 </td><td>CD</td><td>male  </td><td>inflamed  </td><td> 2</td><td>28</td><td>large_intestine</td></tr>\n",
       "\t<tr><th scope=row>GSM5088392</th><td>CD_U_LI_M_6 </td><td>CD</td><td>male  </td><td>uninflamed</td><td>NA</td><td>55</td><td>large_intestine</td></tr>\n",
       "</tbody>\n",
       "</table>\n"
      ],
      "text/latex": [
       "A data.frame: 6 × 7\n",
       "\\begin{tabular}{r|lllllll}\n",
       "  & title & disease.ch1 & gender.ch1 & inflammation\\_status.ch1 & nancy\\_score.ch1 & patient\\_age.ch1 & site\\_taken.ch1\\\\\n",
       "  & <chr> & <chr> & <chr> & <chr> & <int> & <int> & <chr>\\\\\n",
       "\\hline\n",
       "\tGSM5088383 & UC\\_I\\_LI\\_M\\_1  & UC & male   & inflamed   &  2 & 56 & large\\_intestine\\\\\n",
       "\tGSM5088385 & UC\\_NA\\_LI\\_F\\_2 & UC & female & inflamed   &  4 & 63 & large\\_intestine\\\\\n",
       "\tGSM5088387 & CD\\_I\\_SI\\_F\\_3  & CD & female & inflamed   &  4 & 56 & small\\_intestine\\\\\n",
       "\tGSM5088389 & CD\\_I\\_SI\\_M\\_4  & CD & male   & inflamed   & NA & 33 & small\\_intestine\\\\\n",
       "\tGSM5088391 & CD\\_I\\_LI\\_M\\_5  & CD & male   & inflamed   &  2 & 28 & large\\_intestine\\\\\n",
       "\tGSM5088392 & CD\\_U\\_LI\\_M\\_6  & CD & male   & uninflamed & NA & 55 & large\\_intestine\\\\\n",
       "\\end{tabular}\n"
      ],
      "text/markdown": [
       "\n",
       "A data.frame: 6 × 7\n",
       "\n",
       "| <!--/--> | title &lt;chr&gt; | disease.ch1 &lt;chr&gt; | gender.ch1 &lt;chr&gt; | inflammation_status.ch1 &lt;chr&gt; | nancy_score.ch1 &lt;int&gt; | patient_age.ch1 &lt;int&gt; | site_taken.ch1 &lt;chr&gt; |\n",
       "|---|---|---|---|---|---|---|---|\n",
       "| GSM5088383 | UC_I_LI_M_1  | UC | male   | inflamed   |  2 | 56 | large_intestine |\n",
       "| GSM5088385 | UC_NA_LI_F_2 | UC | female | inflamed   |  4 | 63 | large_intestine |\n",
       "| GSM5088387 | CD_I_SI_F_3  | CD | female | inflamed   |  4 | 56 | small_intestine |\n",
       "| GSM5088389 | CD_I_SI_M_4  | CD | male   | inflamed   | NA | 33 | small_intestine |\n",
       "| GSM5088391 | CD_I_LI_M_5  | CD | male   | inflamed   |  2 | 28 | large_intestine |\n",
       "| GSM5088392 | CD_U_LI_M_6  | CD | male   | uninflamed | NA | 55 | large_intestine |\n",
       "\n"
      ],
      "text/plain": [
       "           title        disease.ch1 gender.ch1 inflammation_status.ch1\n",
       "GSM5088383 UC_I_LI_M_1  UC          male       inflamed               \n",
       "GSM5088385 UC_NA_LI_F_2 UC          female     inflamed               \n",
       "GSM5088387 CD_I_SI_F_3  CD          female     inflamed               \n",
       "GSM5088389 CD_I_SI_M_4  CD          male       inflamed               \n",
       "GSM5088391 CD_I_LI_M_5  CD          male       inflamed               \n",
       "GSM5088392 CD_U_LI_M_6  CD          male       uninflamed             \n",
       "           nancy_score.ch1 patient_age.ch1 site_taken.ch1 \n",
       "GSM5088383  2              56              large_intestine\n",
       "GSM5088385  4              63              large_intestine\n",
       "GSM5088387  4              56              small_intestine\n",
       "GSM5088389 NA              33              small_intestine\n",
       "GSM5088391  2              28              large_intestine\n",
       "GSM5088392 NA              55              large_intestine"
      ]
     },
     "metadata": {},
     "output_type": "display_data"
    }
   ],
   "source": [
    "meta <- read.table('data/GSE166925-meta.tsv',sep='\\t')\n",
    "head(meta)"
   ]
  },
  {
   "cell_type": "markdown",
   "metadata": {},
   "source": [
    "Let's also use the title column as the index instead of the GSM IDs using `rownames()`."
   ]
  },
  {
   "cell_type": "code",
   "execution_count": 2,
   "metadata": {},
   "outputs": [
    {
     "data": {
      "text/html": [
       "<table class=\"dataframe\">\n",
       "<caption>A data.frame: 6 × 7</caption>\n",
       "<thead>\n",
       "\t<tr><th></th><th scope=col>title</th><th scope=col>disease.ch1</th><th scope=col>gender.ch1</th><th scope=col>inflammation_status.ch1</th><th scope=col>nancy_score.ch1</th><th scope=col>patient_age.ch1</th><th scope=col>site_taken.ch1</th></tr>\n",
       "\t<tr><th></th><th scope=col>&lt;chr&gt;</th><th scope=col>&lt;chr&gt;</th><th scope=col>&lt;chr&gt;</th><th scope=col>&lt;chr&gt;</th><th scope=col>&lt;int&gt;</th><th scope=col>&lt;int&gt;</th><th scope=col>&lt;chr&gt;</th></tr>\n",
       "</thead>\n",
       "<tbody>\n",
       "\t<tr><th scope=row>UC_I_LI_M_1</th><td>UC_I_LI_M_1 </td><td>UC</td><td>male  </td><td>inflamed  </td><td> 2</td><td>56</td><td>large_intestine</td></tr>\n",
       "\t<tr><th scope=row>UC_NA_LI_F_2</th><td>UC_NA_LI_F_2</td><td>UC</td><td>female</td><td>inflamed  </td><td> 4</td><td>63</td><td>large_intestine</td></tr>\n",
       "\t<tr><th scope=row>CD_I_SI_F_3</th><td>CD_I_SI_F_3 </td><td>CD</td><td>female</td><td>inflamed  </td><td> 4</td><td>56</td><td>small_intestine</td></tr>\n",
       "\t<tr><th scope=row>CD_I_SI_M_4</th><td>CD_I_SI_M_4 </td><td>CD</td><td>male  </td><td>inflamed  </td><td>NA</td><td>33</td><td>small_intestine</td></tr>\n",
       "\t<tr><th scope=row>CD_I_LI_M_5</th><td>CD_I_LI_M_5 </td><td>CD</td><td>male  </td><td>inflamed  </td><td> 2</td><td>28</td><td>large_intestine</td></tr>\n",
       "\t<tr><th scope=row>CD_U_LI_M_6</th><td>CD_U_LI_M_6 </td><td>CD</td><td>male  </td><td>uninflamed</td><td>NA</td><td>55</td><td>large_intestine</td></tr>\n",
       "</tbody>\n",
       "</table>\n"
      ],
      "text/latex": [
       "A data.frame: 6 × 7\n",
       "\\begin{tabular}{r|lllllll}\n",
       "  & title & disease.ch1 & gender.ch1 & inflammation\\_status.ch1 & nancy\\_score.ch1 & patient\\_age.ch1 & site\\_taken.ch1\\\\\n",
       "  & <chr> & <chr> & <chr> & <chr> & <int> & <int> & <chr>\\\\\n",
       "\\hline\n",
       "\tUC\\_I\\_LI\\_M\\_1 & UC\\_I\\_LI\\_M\\_1  & UC & male   & inflamed   &  2 & 56 & large\\_intestine\\\\\n",
       "\tUC\\_NA\\_LI\\_F\\_2 & UC\\_NA\\_LI\\_F\\_2 & UC & female & inflamed   &  4 & 63 & large\\_intestine\\\\\n",
       "\tCD\\_I\\_SI\\_F\\_3 & CD\\_I\\_SI\\_F\\_3  & CD & female & inflamed   &  4 & 56 & small\\_intestine\\\\\n",
       "\tCD\\_I\\_SI\\_M\\_4 & CD\\_I\\_SI\\_M\\_4  & CD & male   & inflamed   & NA & 33 & small\\_intestine\\\\\n",
       "\tCD\\_I\\_LI\\_M\\_5 & CD\\_I\\_LI\\_M\\_5  & CD & male   & inflamed   &  2 & 28 & large\\_intestine\\\\\n",
       "\tCD\\_U\\_LI\\_M\\_6 & CD\\_U\\_LI\\_M\\_6  & CD & male   & uninflamed & NA & 55 & large\\_intestine\\\\\n",
       "\\end{tabular}\n"
      ],
      "text/markdown": [
       "\n",
       "A data.frame: 6 × 7\n",
       "\n",
       "| <!--/--> | title &lt;chr&gt; | disease.ch1 &lt;chr&gt; | gender.ch1 &lt;chr&gt; | inflammation_status.ch1 &lt;chr&gt; | nancy_score.ch1 &lt;int&gt; | patient_age.ch1 &lt;int&gt; | site_taken.ch1 &lt;chr&gt; |\n",
       "|---|---|---|---|---|---|---|---|\n",
       "| UC_I_LI_M_1 | UC_I_LI_M_1  | UC | male   | inflamed   |  2 | 56 | large_intestine |\n",
       "| UC_NA_LI_F_2 | UC_NA_LI_F_2 | UC | female | inflamed   |  4 | 63 | large_intestine |\n",
       "| CD_I_SI_F_3 | CD_I_SI_F_3  | CD | female | inflamed   |  4 | 56 | small_intestine |\n",
       "| CD_I_SI_M_4 | CD_I_SI_M_4  | CD | male   | inflamed   | NA | 33 | small_intestine |\n",
       "| CD_I_LI_M_5 | CD_I_LI_M_5  | CD | male   | inflamed   |  2 | 28 | large_intestine |\n",
       "| CD_U_LI_M_6 | CD_U_LI_M_6  | CD | male   | uninflamed | NA | 55 | large_intestine |\n",
       "\n"
      ],
      "text/plain": [
       "             title        disease.ch1 gender.ch1 inflammation_status.ch1\n",
       "UC_I_LI_M_1  UC_I_LI_M_1  UC          male       inflamed               \n",
       "UC_NA_LI_F_2 UC_NA_LI_F_2 UC          female     inflamed               \n",
       "CD_I_SI_F_3  CD_I_SI_F_3  CD          female     inflamed               \n",
       "CD_I_SI_M_4  CD_I_SI_M_4  CD          male       inflamed               \n",
       "CD_I_LI_M_5  CD_I_LI_M_5  CD          male       inflamed               \n",
       "CD_U_LI_M_6  CD_U_LI_M_6  CD          male       uninflamed             \n",
       "             nancy_score.ch1 patient_age.ch1 site_taken.ch1 \n",
       "UC_I_LI_M_1   2              56              large_intestine\n",
       "UC_NA_LI_F_2  4              63              large_intestine\n",
       "CD_I_SI_F_3   4              56              small_intestine\n",
       "CD_I_SI_M_4  NA              33              small_intestine\n",
       "CD_I_LI_M_5   2              28              large_intestine\n",
       "CD_U_LI_M_6  NA              55              large_intestine"
      ]
     },
     "metadata": {},
     "output_type": "display_data"
    }
   ],
   "source": [
    "rownames(meta) <- meta$title\n",
    "head(meta)"
   ]
  },
  {
   "cell_type": "markdown",
   "metadata": {},
   "source": [
    "***Based on what we've covered so far, take a minute to try out some of these exercises:***"
   ]
  },
  {
   "cell_type": "markdown",
   "metadata": {},
   "source": [
    "1.  Subset the vector, “meta[,6]“, for values greater than “50“."
   ]
  },
  {
   "cell_type": "code",
   "execution_count": 6,
   "metadata": {},
   "outputs": [
    {
     "name": "stdout",
     "output_type": "stream",
     "text": [
      " [1] 56 63 56 55 52 59 62 60 69 55 77 60 73 73 68 68 77 77 73 70 64 NA 60 80 85\n",
      "[26] 62 68 88 61 64 65 76 60 68 73 80 60 72 66 66 76 83 54 79 83 69 64 63 73 79\n",
      "[51] 57 76\n"
     ]
    }
   ],
   "source": [
    "print(meta[meta[, 6] > 50, 6])"
   ]
  },
  {
   "cell_type": "markdown",
   "metadata": {},
   "source": [
    "<div class=\"alert alert-block alert-success\">\n",
    "\n",
    "You should be getting a vector with the following values: \n",
    "56 63 56 55 52 59 62 60 69 55 77 60 73 73 68 68 77 77 73 70 64 NA 60 80 85 62 68 88 61 64 65 76 60 68 73 80 60 72 66 66 76 83 54 79 83 69 64 63 73 79 57 76\n",
    "\n",
    "\n",
    "</div>"
   ]
  },
  {
   "cell_type": "markdown",
   "metadata": {},
   "source": [
    "2. Subset the dataframe, “meta” for rows with “patient_age.ch1” greater than , or equal to, 80 years old."
   ]
  },
  {
   "cell_type": "code",
   "execution_count": 9,
   "metadata": {},
   "outputs": [
    {
     "data": {
      "text/html": [
       "<table class=\"dataframe\">\n",
       "<caption>A data.frame: 6 × 7</caption>\n",
       "<thead>\n",
       "\t<tr><th></th><th scope=col>title</th><th scope=col>disease.ch1</th><th scope=col>gender.ch1</th><th scope=col>inflammation_status.ch1</th><th scope=col>nancy_score.ch1</th><th scope=col>patient_age.ch1</th><th scope=col>site_taken.ch1</th></tr>\n",
       "\t<tr><th></th><th scope=col>&lt;chr&gt;</th><th scope=col>&lt;chr&gt;</th><th scope=col>&lt;chr&gt;</th><th scope=col>&lt;chr&gt;</th><th scope=col>&lt;int&gt;</th><th scope=col>&lt;int&gt;</th><th scope=col>&lt;chr&gt;</th></tr>\n",
       "</thead>\n",
       "<tbody>\n",
       "\t<tr><th scope=row>CRC_N_LI_F_65</th><td>CRC_N_LI_F_65</td><td>Control</td><td>female</td><td>uninflamed</td><td> 0</td><td>80</td><td>large_intestine</td></tr>\n",
       "\t<tr><th scope=row>CRC_N_LI_M_67</th><td>CRC_N_LI_M_67</td><td>Control</td><td>male  </td><td>uninflamed</td><td> 0</td><td>85</td><td>large_intestine</td></tr>\n",
       "\t<tr><th scope=row>CRC_N_LI_M_70</th><td>CRC_N_LI_M_70</td><td>Control</td><td>male  </td><td>uninflamed</td><td> 0</td><td>88</td><td>large_intestine</td></tr>\n",
       "\t<tr><th scope=row>CRC_N_LI_F_78</th><td>CRC_N_LI_F_78</td><td>Control</td><td>female</td><td>uninflamed</td><td> 0</td><td>80</td><td>large_intestine</td></tr>\n",
       "\t<tr><th scope=row>CRC_N_LI_F_86</th><td>CRC_N_LI_F_86</td><td>Control</td><td>female</td><td>uninflamed</td><td>NA</td><td>83</td><td>large_intestine</td></tr>\n",
       "\t<tr><th scope=row>CRC_N_LI_M_89</th><td>CRC_N_LI_M_89</td><td>Control</td><td>male  </td><td>uninflamed</td><td>NA</td><td>83</td><td>large_intestine</td></tr>\n",
       "</tbody>\n",
       "</table>\n"
      ],
      "text/latex": [
       "A data.frame: 6 × 7\n",
       "\\begin{tabular}{r|lllllll}\n",
       "  & title & disease.ch1 & gender.ch1 & inflammation\\_status.ch1 & nancy\\_score.ch1 & patient\\_age.ch1 & site\\_taken.ch1\\\\\n",
       "  & <chr> & <chr> & <chr> & <chr> & <int> & <int> & <chr>\\\\\n",
       "\\hline\n",
       "\tCRC\\_N\\_LI\\_F\\_65 & CRC\\_N\\_LI\\_F\\_65 & Control & female & uninflamed &  0 & 80 & large\\_intestine\\\\\n",
       "\tCRC\\_N\\_LI\\_M\\_67 & CRC\\_N\\_LI\\_M\\_67 & Control & male   & uninflamed &  0 & 85 & large\\_intestine\\\\\n",
       "\tCRC\\_N\\_LI\\_M\\_70 & CRC\\_N\\_LI\\_M\\_70 & Control & male   & uninflamed &  0 & 88 & large\\_intestine\\\\\n",
       "\tCRC\\_N\\_LI\\_F\\_78 & CRC\\_N\\_LI\\_F\\_78 & Control & female & uninflamed &  0 & 80 & large\\_intestine\\\\\n",
       "\tCRC\\_N\\_LI\\_F\\_86 & CRC\\_N\\_LI\\_F\\_86 & Control & female & uninflamed & NA & 83 & large\\_intestine\\\\\n",
       "\tCRC\\_N\\_LI\\_M\\_89 & CRC\\_N\\_LI\\_M\\_89 & Control & male   & uninflamed & NA & 83 & large\\_intestine\\\\\n",
       "\\end{tabular}\n"
      ],
      "text/markdown": [
       "\n",
       "A data.frame: 6 × 7\n",
       "\n",
       "| <!--/--> | title &lt;chr&gt; | disease.ch1 &lt;chr&gt; | gender.ch1 &lt;chr&gt; | inflammation_status.ch1 &lt;chr&gt; | nancy_score.ch1 &lt;int&gt; | patient_age.ch1 &lt;int&gt; | site_taken.ch1 &lt;chr&gt; |\n",
       "|---|---|---|---|---|---|---|---|\n",
       "| CRC_N_LI_F_65 | CRC_N_LI_F_65 | Control | female | uninflamed |  0 | 80 | large_intestine |\n",
       "| CRC_N_LI_M_67 | CRC_N_LI_M_67 | Control | male   | uninflamed |  0 | 85 | large_intestine |\n",
       "| CRC_N_LI_M_70 | CRC_N_LI_M_70 | Control | male   | uninflamed |  0 | 88 | large_intestine |\n",
       "| CRC_N_LI_F_78 | CRC_N_LI_F_78 | Control | female | uninflamed |  0 | 80 | large_intestine |\n",
       "| CRC_N_LI_F_86 | CRC_N_LI_F_86 | Control | female | uninflamed | NA | 83 | large_intestine |\n",
       "| CRC_N_LI_M_89 | CRC_N_LI_M_89 | Control | male   | uninflamed | NA | 83 | large_intestine |\n",
       "\n"
      ],
      "text/plain": [
       "              title         disease.ch1 gender.ch1 inflammation_status.ch1\n",
       "CRC_N_LI_F_65 CRC_N_LI_F_65 Control     female     uninflamed             \n",
       "CRC_N_LI_M_67 CRC_N_LI_M_67 Control     male       uninflamed             \n",
       "CRC_N_LI_M_70 CRC_N_LI_M_70 Control     male       uninflamed             \n",
       "CRC_N_LI_F_78 CRC_N_LI_F_78 Control     female     uninflamed             \n",
       "CRC_N_LI_F_86 CRC_N_LI_F_86 Control     female     uninflamed             \n",
       "CRC_N_LI_M_89 CRC_N_LI_M_89 Control     male       uninflamed             \n",
       "              nancy_score.ch1 patient_age.ch1 site_taken.ch1 \n",
       "CRC_N_LI_F_65  0              80              large_intestine\n",
       "CRC_N_LI_M_67  0              85              large_intestine\n",
       "CRC_N_LI_M_70  0              88              large_intestine\n",
       "CRC_N_LI_F_78  0              80              large_intestine\n",
       "CRC_N_LI_F_86 NA              83              large_intestine\n",
       "CRC_N_LI_M_89 NA              83              large_intestine"
      ]
     },
     "metadata": {},
     "output_type": "display_data"
    }
   ],
   "source": [
    "subset(meta, patient_age.ch1 >= 80)"
   ]
  },
  {
   "cell_type": "code",
   "execution_count": 18,
   "metadata": {},
   "outputs": [
    {
     "data": {
      "text/html": [
       "<style>\n",
       ".list-inline {list-style: none; margin:0; padding: 0}\n",
       ".list-inline>li {display: inline-block}\n",
       ".list-inline>li:not(:last-child)::after {content: \"\\00b7\"; padding: 0 .5ex}\n",
       "</style>\n",
       "<ol class=list-inline><li>56</li><li>63</li><li>56</li><li>33</li><li>28</li><li>55</li><li>40</li><li>29</li><li>52</li><li>28</li><li>59</li><li>33</li><li>62</li><li>25</li><li>25</li><li>60</li><li>35</li><li>35</li><li>35</li><li>43</li><li>43</li><li>43</li><li>69</li><li>55</li><li>40</li><li>77</li><li>60</li><li>49</li><li>25</li><li>25</li><li>30</li><li>30</li><li>37</li><li>37</li><li>73</li><li>73</li><li>46</li><li>46</li><li>23</li><li>36</li><li>36</li><li>29</li><li>29</li><li>23</li><li>30</li><li>29</li><li>42</li><li>49</li><li>22</li><li>22</li><li>44</li><li>44</li><li>68</li><li>68</li><li>77</li><li>43</li><li>77</li><li>73</li><li>38</li><li>70</li><li>38</li><li>64</li><li>&lt;NA&gt;</li><li>60</li><li>80</li><li>50</li><li>85</li><li>62</li><li>68</li><li>88</li><li>61</li><li>64</li><li>65</li><li>76</li><li>60</li><li>68</li><li>73</li><li>80</li><li>37</li><li>60</li><li>72</li><li>66</li><li>66</li><li>76</li><li>47</li><li>83</li><li>54</li><li>79</li><li>83</li><li>69</li><li>64</li><li>63</li><li>73</li><li>79</li><li>57</li><li>76</li></ol>\n"
      ],
      "text/latex": [
       "\\begin{enumerate*}\n",
       "\\item 56\n",
       "\\item 63\n",
       "\\item 56\n",
       "\\item 33\n",
       "\\item 28\n",
       "\\item 55\n",
       "\\item 40\n",
       "\\item 29\n",
       "\\item 52\n",
       "\\item 28\n",
       "\\item 59\n",
       "\\item 33\n",
       "\\item 62\n",
       "\\item 25\n",
       "\\item 25\n",
       "\\item 60\n",
       "\\item 35\n",
       "\\item 35\n",
       "\\item 35\n",
       "\\item 43\n",
       "\\item 43\n",
       "\\item 43\n",
       "\\item 69\n",
       "\\item 55\n",
       "\\item 40\n",
       "\\item 77\n",
       "\\item 60\n",
       "\\item 49\n",
       "\\item 25\n",
       "\\item 25\n",
       "\\item 30\n",
       "\\item 30\n",
       "\\item 37\n",
       "\\item 37\n",
       "\\item 73\n",
       "\\item 73\n",
       "\\item 46\n",
       "\\item 46\n",
       "\\item 23\n",
       "\\item 36\n",
       "\\item 36\n",
       "\\item 29\n",
       "\\item 29\n",
       "\\item 23\n",
       "\\item 30\n",
       "\\item 29\n",
       "\\item 42\n",
       "\\item 49\n",
       "\\item 22\n",
       "\\item 22\n",
       "\\item 44\n",
       "\\item 44\n",
       "\\item 68\n",
       "\\item 68\n",
       "\\item 77\n",
       "\\item 43\n",
       "\\item 77\n",
       "\\item 73\n",
       "\\item 38\n",
       "\\item 70\n",
       "\\item 38\n",
       "\\item 64\n",
       "\\item <NA>\n",
       "\\item 60\n",
       "\\item 80\n",
       "\\item 50\n",
       "\\item 85\n",
       "\\item 62\n",
       "\\item 68\n",
       "\\item 88\n",
       "\\item 61\n",
       "\\item 64\n",
       "\\item 65\n",
       "\\item 76\n",
       "\\item 60\n",
       "\\item 68\n",
       "\\item 73\n",
       "\\item 80\n",
       "\\item 37\n",
       "\\item 60\n",
       "\\item 72\n",
       "\\item 66\n",
       "\\item 66\n",
       "\\item 76\n",
       "\\item 47\n",
       "\\item 83\n",
       "\\item 54\n",
       "\\item 79\n",
       "\\item 83\n",
       "\\item 69\n",
       "\\item 64\n",
       "\\item 63\n",
       "\\item 73\n",
       "\\item 79\n",
       "\\item 57\n",
       "\\item 76\n",
       "\\end{enumerate*}\n"
      ],
      "text/markdown": [
       "1. 56\n",
       "2. 63\n",
       "3. 56\n",
       "4. 33\n",
       "5. 28\n",
       "6. 55\n",
       "7. 40\n",
       "8. 29\n",
       "9. 52\n",
       "10. 28\n",
       "11. 59\n",
       "12. 33\n",
       "13. 62\n",
       "14. 25\n",
       "15. 25\n",
       "16. 60\n",
       "17. 35\n",
       "18. 35\n",
       "19. 35\n",
       "20. 43\n",
       "21. 43\n",
       "22. 43\n",
       "23. 69\n",
       "24. 55\n",
       "25. 40\n",
       "26. 77\n",
       "27. 60\n",
       "28. 49\n",
       "29. 25\n",
       "30. 25\n",
       "31. 30\n",
       "32. 30\n",
       "33. 37\n",
       "34. 37\n",
       "35. 73\n",
       "36. 73\n",
       "37. 46\n",
       "38. 46\n",
       "39. 23\n",
       "40. 36\n",
       "41. 36\n",
       "42. 29\n",
       "43. 29\n",
       "44. 23\n",
       "45. 30\n",
       "46. 29\n",
       "47. 42\n",
       "48. 49\n",
       "49. 22\n",
       "50. 22\n",
       "51. 44\n",
       "52. 44\n",
       "53. 68\n",
       "54. 68\n",
       "55. 77\n",
       "56. 43\n",
       "57. 77\n",
       "58. 73\n",
       "59. 38\n",
       "60. 70\n",
       "61. 38\n",
       "62. 64\n",
       "63. &lt;NA&gt;\n",
       "64. 60\n",
       "65. 80\n",
       "66. 50\n",
       "67. 85\n",
       "68. 62\n",
       "69. 68\n",
       "70. 88\n",
       "71. 61\n",
       "72. 64\n",
       "73. 65\n",
       "74. 76\n",
       "75. 60\n",
       "76. 68\n",
       "77. 73\n",
       "78. 80\n",
       "79. 37\n",
       "80. 60\n",
       "81. 72\n",
       "82. 66\n",
       "83. 66\n",
       "84. 76\n",
       "85. 47\n",
       "86. 83\n",
       "87. 54\n",
       "88. 79\n",
       "89. 83\n",
       "90. 69\n",
       "91. 64\n",
       "92. 63\n",
       "93. 73\n",
       "94. 79\n",
       "95. 57\n",
       "96. 76\n",
       "\n",
       "\n"
      ],
      "text/plain": [
       " [1] 56 63 56 33 28 55 40 29 52 28 59 33 62 25 25 60 35 35 35 43 43 43 69 55 40\n",
       "[26] 77 60 49 25 25 30 30 37 37 73 73 46 46 23 36 36 29 29 23 30 29 42 49 22 22\n",
       "[51] 44 44 68 68 77 43 77 73 38 70 38 64 NA 60 80 50 85 62 68 88 61 64 65 76 60\n",
       "[76] 68 73 80 37 60 72 66 66 76 47 83 54 79 83 69 64 63 73 79 57 76"
      ]
     },
     "metadata": {},
     "output_type": "display_data"
    }
   ],
   "source": [
    "meta$patient_age.ch1"
   ]
  },
  {
   "cell_type": "code",
   "execution_count": 17,
   "metadata": {},
   "outputs": [
    {
     "data": {
      "text/html": [
       "<table class=\"dataframe\">\n",
       "<caption>A data.frame: 7 × 7</caption>\n",
       "<thead>\n",
       "\t<tr><th></th><th scope=col>title</th><th scope=col>disease.ch1</th><th scope=col>gender.ch1</th><th scope=col>inflammation_status.ch1</th><th scope=col>nancy_score.ch1</th><th scope=col>patient_age.ch1</th><th scope=col>site_taken.ch1</th></tr>\n",
       "\t<tr><th></th><th scope=col>&lt;chr&gt;</th><th scope=col>&lt;chr&gt;</th><th scope=col>&lt;chr&gt;</th><th scope=col>&lt;chr&gt;</th><th scope=col>&lt;int&gt;</th><th scope=col>&lt;int&gt;</th><th scope=col>&lt;chr&gt;</th></tr>\n",
       "</thead>\n",
       "<tbody>\n",
       "\t<tr><th scope=row>NA</th><td>NA           </td><td>NA     </td><td>NA    </td><td>NA        </td><td>NA</td><td>NA</td><td>NA             </td></tr>\n",
       "\t<tr><th scope=row>CRC_N_LI_F_65</th><td>CRC_N_LI_F_65</td><td>Control</td><td>female</td><td>uninflamed</td><td> 0</td><td>80</td><td>large_intestine</td></tr>\n",
       "\t<tr><th scope=row>CRC_N_LI_M_67</th><td>CRC_N_LI_M_67</td><td>Control</td><td>male  </td><td>uninflamed</td><td> 0</td><td>85</td><td>large_intestine</td></tr>\n",
       "\t<tr><th scope=row>CRC_N_LI_M_70</th><td>CRC_N_LI_M_70</td><td>Control</td><td>male  </td><td>uninflamed</td><td> 0</td><td>88</td><td>large_intestine</td></tr>\n",
       "\t<tr><th scope=row>CRC_N_LI_F_78</th><td>CRC_N_LI_F_78</td><td>Control</td><td>female</td><td>uninflamed</td><td> 0</td><td>80</td><td>large_intestine</td></tr>\n",
       "\t<tr><th scope=row>CRC_N_LI_F_86</th><td>CRC_N_LI_F_86</td><td>Control</td><td>female</td><td>uninflamed</td><td>NA</td><td>83</td><td>large_intestine</td></tr>\n",
       "\t<tr><th scope=row>CRC_N_LI_M_89</th><td>CRC_N_LI_M_89</td><td>Control</td><td>male  </td><td>uninflamed</td><td>NA</td><td>83</td><td>large_intestine</td></tr>\n",
       "</tbody>\n",
       "</table>\n"
      ],
      "text/latex": [
       "A data.frame: 7 × 7\n",
       "\\begin{tabular}{r|lllllll}\n",
       "  & title & disease.ch1 & gender.ch1 & inflammation\\_status.ch1 & nancy\\_score.ch1 & patient\\_age.ch1 & site\\_taken.ch1\\\\\n",
       "  & <chr> & <chr> & <chr> & <chr> & <int> & <int> & <chr>\\\\\n",
       "\\hline\n",
       "\tNA & NA            & NA      & NA     & NA         & NA & NA & NA             \\\\\n",
       "\tCRC\\_N\\_LI\\_F\\_65 & CRC\\_N\\_LI\\_F\\_65 & Control & female & uninflamed &  0 & 80 & large\\_intestine\\\\\n",
       "\tCRC\\_N\\_LI\\_M\\_67 & CRC\\_N\\_LI\\_M\\_67 & Control & male   & uninflamed &  0 & 85 & large\\_intestine\\\\\n",
       "\tCRC\\_N\\_LI\\_M\\_70 & CRC\\_N\\_LI\\_M\\_70 & Control & male   & uninflamed &  0 & 88 & large\\_intestine\\\\\n",
       "\tCRC\\_N\\_LI\\_F\\_78 & CRC\\_N\\_LI\\_F\\_78 & Control & female & uninflamed &  0 & 80 & large\\_intestine\\\\\n",
       "\tCRC\\_N\\_LI\\_F\\_86 & CRC\\_N\\_LI\\_F\\_86 & Control & female & uninflamed & NA & 83 & large\\_intestine\\\\\n",
       "\tCRC\\_N\\_LI\\_M\\_89 & CRC\\_N\\_LI\\_M\\_89 & Control & male   & uninflamed & NA & 83 & large\\_intestine\\\\\n",
       "\\end{tabular}\n"
      ],
      "text/markdown": [
       "\n",
       "A data.frame: 7 × 7\n",
       "\n",
       "| <!--/--> | title &lt;chr&gt; | disease.ch1 &lt;chr&gt; | gender.ch1 &lt;chr&gt; | inflammation_status.ch1 &lt;chr&gt; | nancy_score.ch1 &lt;int&gt; | patient_age.ch1 &lt;int&gt; | site_taken.ch1 &lt;chr&gt; |\n",
       "|---|---|---|---|---|---|---|---|\n",
       "| NA | NA            | NA      | NA     | NA         | NA | NA | NA              |\n",
       "| CRC_N_LI_F_65 | CRC_N_LI_F_65 | Control | female | uninflamed |  0 | 80 | large_intestine |\n",
       "| CRC_N_LI_M_67 | CRC_N_LI_M_67 | Control | male   | uninflamed |  0 | 85 | large_intestine |\n",
       "| CRC_N_LI_M_70 | CRC_N_LI_M_70 | Control | male   | uninflamed |  0 | 88 | large_intestine |\n",
       "| CRC_N_LI_F_78 | CRC_N_LI_F_78 | Control | female | uninflamed |  0 | 80 | large_intestine |\n",
       "| CRC_N_LI_F_86 | CRC_N_LI_F_86 | Control | female | uninflamed | NA | 83 | large_intestine |\n",
       "| CRC_N_LI_M_89 | CRC_N_LI_M_89 | Control | male   | uninflamed | NA | 83 | large_intestine |\n",
       "\n"
      ],
      "text/plain": [
       "              title         disease.ch1 gender.ch1 inflammation_status.ch1\n",
       "NA            NA            NA          NA         NA                     \n",
       "CRC_N_LI_F_65 CRC_N_LI_F_65 Control     female     uninflamed             \n",
       "CRC_N_LI_M_67 CRC_N_LI_M_67 Control     male       uninflamed             \n",
       "CRC_N_LI_M_70 CRC_N_LI_M_70 Control     male       uninflamed             \n",
       "CRC_N_LI_F_78 CRC_N_LI_F_78 Control     female     uninflamed             \n",
       "CRC_N_LI_F_86 CRC_N_LI_F_86 Control     female     uninflamed             \n",
       "CRC_N_LI_M_89 CRC_N_LI_M_89 Control     male       uninflamed             \n",
       "              nancy_score.ch1 patient_age.ch1 site_taken.ch1 \n",
       "NA            NA              NA              NA             \n",
       "CRC_N_LI_F_65  0              80              large_intestine\n",
       "CRC_N_LI_M_67  0              85              large_intestine\n",
       "CRC_N_LI_M_70  0              88              large_intestine\n",
       "CRC_N_LI_F_78  0              80              large_intestine\n",
       "CRC_N_LI_F_86 NA              83              large_intestine\n",
       "CRC_N_LI_M_89 NA              83              large_intestine"
      ]
     },
     "metadata": {},
     "output_type": "display_data"
    }
   ],
   "source": [
    "meta[meta$patient_age.ch1 >= 80, ]"
   ]
  },
  {
   "cell_type": "code",
   "execution_count": 11,
   "metadata": {},
   "outputs": [
    {
     "name": "stdout",
     "output_type": "stream",
     "text": [
      "[1] \"CRC_N_LI_F_65\" \"CRC_N_LI_M_67\" \"CRC_N_LI_M_70\" \"CRC_N_LI_F_78\"\n",
      "[5] \"CRC_N_LI_F_86\" \"CRC_N_LI_M_89\"\n"
     ]
    }
   ],
   "source": [
    "print(rownames(subset(meta, patient_age.ch1 >= 80)))"
   ]
  },
  {
   "cell_type": "markdown",
   "metadata": {},
   "source": [
    "<div class=\"alert alert-block alert-success\">\n",
    "You should get a dataframe with only the following rows: \"CRC_N_LI_F_65\" \"CRC_N_LI_M_67\" \"CRC_N_LI_M_70\" \"CRC_N_LI_F_78\" \"CRC_N_LI_F_86\" \"CRC_N_LI_M_89\"\n",
    "\n",
    "</div>"
   ]
  },
  {
   "cell_type": "markdown",
   "metadata": {},
   "source": [
    "3. Subset “meta” for rows with “gender.ch1” is “female“, and “nancy_score.ch1” exactly equal to “4“."
   ]
  },
  {
   "cell_type": "code",
   "execution_count": 22,
   "metadata": {},
   "outputs": [
    {
     "data": {
      "text/html": [
       "<table class=\"dataframe\">\n",
       "<caption>A data.frame: 4 × 7</caption>\n",
       "<thead>\n",
       "\t<tr><th></th><th scope=col>title</th><th scope=col>disease.ch1</th><th scope=col>gender.ch1</th><th scope=col>inflammation_status.ch1</th><th scope=col>nancy_score.ch1</th><th scope=col>patient_age.ch1</th><th scope=col>site_taken.ch1</th></tr>\n",
       "\t<tr><th></th><th scope=col>&lt;chr&gt;</th><th scope=col>&lt;chr&gt;</th><th scope=col>&lt;chr&gt;</th><th scope=col>&lt;chr&gt;</th><th scope=col>&lt;int&gt;</th><th scope=col>&lt;int&gt;</th><th scope=col>&lt;chr&gt;</th></tr>\n",
       "</thead>\n",
       "<tbody>\n",
       "\t<tr><th scope=row>UC_NA_LI_F_2</th><td>UC_NA_LI_F_2</td><td>UC</td><td>female</td><td>inflamed</td><td>4</td><td>63</td><td>large_intestine</td></tr>\n",
       "\t<tr><th scope=row>CD_I_SI_F_3</th><td>CD_I_SI_F_3 </td><td>CD</td><td>female</td><td>inflamed</td><td>4</td><td>56</td><td>small_intestine</td></tr>\n",
       "\t<tr><th scope=row>CD_I_SI_F_31</th><td>CD_I_SI_F_31</td><td>CD</td><td>female</td><td>inflamed</td><td>4</td><td>30</td><td>small_intestine</td></tr>\n",
       "\t<tr><th scope=row>UC_I_LI_F_45</th><td>UC_I_LI_F_45</td><td>UC</td><td>female</td><td>inflamed</td><td>4</td><td>30</td><td>large_intestine</td></tr>\n",
       "</tbody>\n",
       "</table>\n"
      ],
      "text/latex": [
       "A data.frame: 4 × 7\n",
       "\\begin{tabular}{r|lllllll}\n",
       "  & title & disease.ch1 & gender.ch1 & inflammation\\_status.ch1 & nancy\\_score.ch1 & patient\\_age.ch1 & site\\_taken.ch1\\\\\n",
       "  & <chr> & <chr> & <chr> & <chr> & <int> & <int> & <chr>\\\\\n",
       "\\hline\n",
       "\tUC\\_NA\\_LI\\_F\\_2 & UC\\_NA\\_LI\\_F\\_2 & UC & female & inflamed & 4 & 63 & large\\_intestine\\\\\n",
       "\tCD\\_I\\_SI\\_F\\_3 & CD\\_I\\_SI\\_F\\_3  & CD & female & inflamed & 4 & 56 & small\\_intestine\\\\\n",
       "\tCD\\_I\\_SI\\_F\\_31 & CD\\_I\\_SI\\_F\\_31 & CD & female & inflamed & 4 & 30 & small\\_intestine\\\\\n",
       "\tUC\\_I\\_LI\\_F\\_45 & UC\\_I\\_LI\\_F\\_45 & UC & female & inflamed & 4 & 30 & large\\_intestine\\\\\n",
       "\\end{tabular}\n"
      ],
      "text/markdown": [
       "\n",
       "A data.frame: 4 × 7\n",
       "\n",
       "| <!--/--> | title &lt;chr&gt; | disease.ch1 &lt;chr&gt; | gender.ch1 &lt;chr&gt; | inflammation_status.ch1 &lt;chr&gt; | nancy_score.ch1 &lt;int&gt; | patient_age.ch1 &lt;int&gt; | site_taken.ch1 &lt;chr&gt; |\n",
       "|---|---|---|---|---|---|---|---|\n",
       "| UC_NA_LI_F_2 | UC_NA_LI_F_2 | UC | female | inflamed | 4 | 63 | large_intestine |\n",
       "| CD_I_SI_F_3 | CD_I_SI_F_3  | CD | female | inflamed | 4 | 56 | small_intestine |\n",
       "| CD_I_SI_F_31 | CD_I_SI_F_31 | CD | female | inflamed | 4 | 30 | small_intestine |\n",
       "| UC_I_LI_F_45 | UC_I_LI_F_45 | UC | female | inflamed | 4 | 30 | large_intestine |\n",
       "\n"
      ],
      "text/plain": [
       "             title        disease.ch1 gender.ch1 inflammation_status.ch1\n",
       "UC_NA_LI_F_2 UC_NA_LI_F_2 UC          female     inflamed               \n",
       "CD_I_SI_F_3  CD_I_SI_F_3  CD          female     inflamed               \n",
       "CD_I_SI_F_31 CD_I_SI_F_31 CD          female     inflamed               \n",
       "UC_I_LI_F_45 UC_I_LI_F_45 UC          female     inflamed               \n",
       "             nancy_score.ch1 patient_age.ch1 site_taken.ch1 \n",
       "UC_NA_LI_F_2 4               63              large_intestine\n",
       "CD_I_SI_F_3  4               56              small_intestine\n",
       "CD_I_SI_F_31 4               30              small_intestine\n",
       "UC_I_LI_F_45 4               30              large_intestine"
      ]
     },
     "metadata": {},
     "output_type": "display_data"
    }
   ],
   "source": [
    "subset(meta, gender.ch1 == 'female' & nancy_score.ch1 == 4)"
   ]
  },
  {
   "cell_type": "code",
   "execution_count": 24,
   "metadata": {},
   "outputs": [
    {
     "name": "stdout",
     "output_type": "stream",
     "text": [
      "[1] \"UC_NA_LI_F_2\" \"CD_I_SI_F_3\"  \"CD_I_SI_F_31\" \"UC_I_LI_F_45\"\n"
     ]
    }
   ],
   "source": [
    "print(rownames(subset(meta, gender.ch1 == 'female' & nancy_score.ch1 == 4)))"
   ]
  },
  {
   "cell_type": "markdown",
   "metadata": {},
   "source": [
    "<div class=\"alert alert-block alert-success\">\n",
    "\n",
    "You should get a dataframe with only the following rows: \"UC_NA_LI_F_2\" \"CD_I_SI_F_3\"  \"CD_I_SI_F_31\" \"UC_I_LI_F_45\"\n",
    "\n",
    "</div>"
   ]
  },
  {
   "cell_type": "markdown",
   "metadata": {},
   "source": [
    "### Visualizations using Basic Plots\n",
    "Let's explore the sample metadata by creating some plots using the `meta` dataframe.\n",
    "\n",
    "Let's first look at the distribution of patient ages in our dataset."
   ]
  },
  {
   "cell_type": "markdown",
   "metadata": {},
   "source": [
    "**Histograms:**\n",
    "\n",
    "[`hist()`](https://www.datamentor.io/r-programming/histogram/) : generates a histogram"
   ]
  },
  {
   "cell_type": "code",
   "execution_count": 25,
   "metadata": {},
   "outputs": [
    {
     "data": {
      "image/png": "[encoded data removed]",
      "text/plain": [
       "Plot with title “Histogram of meta$patient_age.ch1”"
      ]
     },
     "metadata": {
      "image/png": {
       "height": 420,
       "width": 420
      }
     },
     "output_type": "display_data"
    }
   ],
   "source": [
    "hist(meta$patient_age.ch1)"
   ]
  },
  {
   "cell_type": "markdown",
   "metadata": {},
   "source": [
    "Next, generate a bar plot using [`barplot()`](https://www.statmethods.net/graphs/bar.html) of the gender. \n",
    "\n",
    "The input for `barplot()` is a table of counts for each condition, not a list of the conditions. \n",
    "\n",
    "Ex: instead of a list/vector with \"female\", \"female\", \"female\", \"male\", we need to use the [`table()`](https://www.statology.org/table-function-in-r/) function to get the counts, female: 3 and male: 1."
   ]
  },
  {
   "cell_type": "code",
   "execution_count": 26,
   "metadata": {},
   "outputs": [
    {
     "data": {
      "text/plain": [
       "\n",
       "female   male \n",
       "    47     49 "
      ]
     },
     "metadata": {},
     "output_type": "display_data"
    }
   ],
   "source": [
    "gender_table <- table(meta$gender.ch1)\n",
    "gender_table"
   ]
  },
  {
   "cell_type": "code",
   "execution_count": 27,
   "metadata": {},
   "outputs": [
    {
     "data": {
      "image/png": "[encoded data removed]",
      "text/plain": [
       "plot without title"
      ]
     },
     "metadata": {
      "image/png": {
       "height": 420,
       "width": 420
      }
     },
     "output_type": "display_data"
    }
   ],
   "source": [
    "barplot(gender_table)"
   ]
  },
  {
   "cell_type": "markdown",
   "metadata": {},
   "source": [
    "<div class=\"alert alert-block alert-info\">\n",
    "    <h3>R Practice for basic visualizations: barplot</h3><br>\n",
    "    \n",
    "<p>\n",
    "    Generate a stacked bar plot using <code>barplot()</code> of the disease and inflammation status. The x-axis should be divided by disease, and each disease will be subdivided into inflamed/uninflamed.\n",
    "    \n",
    "Hints:\n",
    "    <ul>\n",
    "        <li>You can look here for <a href=\"https://www.statmethods.net/graphs/bar.html\">examples</a> </li>\n",
    "<li>Generate the counts table with disease and inflammation status</li>\n",
    "<li>You can use the <code>beside=</code> parameter when calling <code>barplot()</code> so the groups aren't stacked on top of each other</li>\n",
    "<li>Use the <code>legend=</code> parameter to include the legend in the plot</li>\n",
    "<li>You can also add title (<code>main=</code>), x-axis label (<code>xlab=</code>), y-axis label (<code>ylab=</code>), colors (<code>col=</code>)</li>\n",
    "    </ul>\n",
    "        </p>\n",
    "    \n",
    "\n",
    "</div>"
   ]
  },
  {
   "cell_type": "code",
   "execution_count": 28,
   "metadata": {},
   "outputs": [
    {
     "data": {
      "text/plain": [
       "         \n",
       "          inflamed uninflamed\n",
       "  CD            19         15\n",
       "  Control        0         42\n",
       "  IBDu           1          0\n",
       "  OTHER          2          4\n",
       "  UC            10          3"
      ]
     },
     "metadata": {},
     "output_type": "display_data"
    }
   ],
   "source": [
    "table(meta$disease.ch1, meta$inflammation_status.ch1)"
   ]
  },
  {
   "cell_type": "code",
   "execution_count": 29,
   "metadata": {},
   "outputs": [
    {
     "data": {
      "image/png": "[encoded data removed]",
      "text/plain": [
       "plot without title"
      ]
     },
     "metadata": {
      "image/png": {
       "height": 420,
       "width": 420
      }
     },
     "output_type": "display_data"
    }
   ],
   "source": [
    "barplot(table(meta$inflammation_status.ch1, meta$disease.ch1), beside=T,legend=T)"
   ]
  }
 ],
 "metadata": {
  "kernelspec": {
   "display_name": "R [conda env:programming-R]",
   "language": "R",
   "name": "conda-env-programming-R-r"
  },
  "language_info": {
   "codemirror_mode": "r",
   "file_extension": ".r",
   "mimetype": "text/x-r-source",
   "name": "R",
   "pygments_lexer": "r",
   "version": "4.2.3"
  }
 },
 "nbformat": 4,
 "nbformat_minor": 4
}
