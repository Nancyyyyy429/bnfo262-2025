{
 "cells": [
  {
   "cell_type": "markdown",
   "id": "2f351b15-fdc1-45e4-adaf-bf82b5c4e655",
   "metadata": {},
   "source": [
    "# Jupyter Notebook\n",
    "---\n",
    "Jupyter notebooks let you interactively run code and inspect your work in \"blocks (cells).\""
   ]
  },
  {
   "cell_type": "markdown",
   "id": "c5a27436-83ab-4c3a-b8ec-da8d2844a759",
   "metadata": {},
   "source": [
    "## Interface\n",
    "\n",
    "#### Kernel\n",
    "- Restart the Kernel: Use this option if your notebook is stuck or you want to clear all variables and start fresh.\n",
    "- Shut Down the Kernel: Shutting down a kernel stops the execution of the notebook but retains its content.\n",
    "- Select a Kernel: You can switch between different kernels (e.g., Python, R) if you have multiple environments installed.\n",
    "\n",
    "#### Cell\n",
    "- add / delete\n",
    "- copy / paste\n",
    "- move\n",
    "- undo / redo"
   ]
  },
  {
   "cell_type": "markdown",
   "id": "8dff2662-db6f-4883-9282-da62687051ad",
   "metadata": {},
   "source": [
    "## Operations\n",
    "\n",
    "#### Switching Modes:\n",
    "- Press `Enter` to enter Edit Mode (where you can type inside a cell).\n",
    "- Press `Esc` to exit Edit Mode and return to Command Mode (where you can use shortcuts to manipulate cells).\n",
    "\n",
    "#### Running a Cell:\n",
    "- Press `Shift-Enter` to execute the code or render text in the current cell and automatically move to the next cell.\n",
    "\n",
    "#### Changing Cell Type:\n",
    "- Press `y` to change the current cell to a Code cell (used for writing code).\n",
    "- Press `m` to change the current cell to a Markdown cell (used for writing formatted text, headings, lists, etc.).\n",
    "\n",
    "#### Adding New Cells:\n",
    "- Press `a` to create a new cell above the current one.\n",
    "- Press `b` to create a new cell below the current one.\n",
    "\n",
    "#### Deleting a Cell:\n",
    "- Press d twice (`d-d`) while in Command Mode to delete the current cell."
   ]
  },
  {
   "cell_type": "code",
   "execution_count": 1,
   "id": "dbe2206b-1bc8-4e15-8af3-9f9cc0f22daa",
   "metadata": {},
   "outputs": [
    {
     "name": "stdout",
     "output_type": "stream",
     "text": [
      "Hello world\n"
     ]
    }
   ],
   "source": [
    "print('Hello world')"
   ]
  },
  {
   "cell_type": "markdown",
   "id": "48bfefe6-909c-423e-a6cd-da849a71ad4b",
   "metadata": {},
   "source": [
    "# Fundamentals\n",
    "---"
   ]
  },
  {
   "cell_type": "markdown",
   "id": "3225e4d5-0be0-46e1-a2c8-9e399b21d727",
   "metadata": {},
   "source": [
    "## Variables\n",
    "- integer\n",
    "- float\n",
    "- boolean\n",
    "- string"
   ]
  },
  {
   "cell_type": "markdown",
   "id": "9c70611a-6041-421c-a309-9ff9965c5aa9",
   "metadata": {},
   "source": [
    "### integer"
   ]
  },
  {
   "cell_type": "code",
   "execution_count": 2,
   "id": "59022a75-9918-4d55-b834-c789274495ba",
   "metadata": {},
   "outputs": [
    {
     "name": "stdout",
     "output_type": "stream",
     "text": [
      "<class 'int'>\n",
      "1\n"
     ]
    }
   ],
   "source": [
    "a = 1\n",
    "print(type(a))\n",
    "print(a)"
   ]
  },
  {
   "cell_type": "code",
   "execution_count": 3,
   "id": "372c3e81-e4f8-4c01-bad8-5d6cd756c760",
   "metadata": {},
   "outputs": [
    {
     "name": "stdout",
     "output_type": "stream",
     "text": [
      "4\n"
     ]
    }
   ],
   "source": [
    "a = a + 3\n",
    "print(a)"
   ]
  },
  {
   "cell_type": "code",
   "execution_count": 4,
   "id": "d54fc8ac-a3b7-46ab-b8cd-3e20da45c9fb",
   "metadata": {},
   "outputs": [
    {
     "name": "stdout",
     "output_type": "stream",
     "text": [
      "16\n"
     ]
    }
   ],
   "source": [
    "a = a**2\n",
    "print(a)"
   ]
  },
  {
   "cell_type": "markdown",
   "id": "9977f687-e5bc-4c16-aeae-96e645af7a7e",
   "metadata": {},
   "source": [
    "### float"
   ]
  },
  {
   "cell_type": "code",
   "execution_count": 5,
   "id": "7303973c-4585-473b-9c25-d58ae6944c85",
   "metadata": {},
   "outputs": [
    {
     "name": "stdout",
     "output_type": "stream",
     "text": [
      "<class 'float'>\n",
      "1.5\n"
     ]
    }
   ],
   "source": [
    "a = 1.5\n",
    "print(type(a))\n",
    "print(a)"
   ]
  },
  {
   "cell_type": "code",
   "execution_count": 6,
   "id": "cf729a04-2e07-4d1e-b534-43232eded455",
   "metadata": {},
   "outputs": [
    {
     "name": "stdout",
     "output_type": "stream",
     "text": [
      "0.5\n"
     ]
    }
   ],
   "source": [
    "a = a / 3\n",
    "print(a)"
   ]
  },
  {
   "cell_type": "markdown",
   "id": "a2b25131-4f5e-4295-b6f7-c7b81568f575",
   "metadata": {},
   "source": [
    "### boolean"
   ]
  },
  {
   "cell_type": "code",
   "execution_count": 7,
   "id": "faed78af-261e-4437-83aa-b1cecb603d89",
   "metadata": {},
   "outputs": [
    {
     "name": "stdout",
     "output_type": "stream",
     "text": [
      "a = True\n",
      "b = False\n"
     ]
    }
   ],
   "source": [
    "a = True\n",
    "b = False\n",
    "print('a =', a)\n",
    "print('b =', b)"
   ]
  },
  {
   "cell_type": "code",
   "execution_count": 8,
   "id": "4a7866d6-9af1-428e-a92b-7db4bc6eb84f",
   "metadata": {},
   "outputs": [
    {
     "name": "stdout",
     "output_type": "stream",
     "text": [
      "False\n"
     ]
    }
   ],
   "source": [
    "print(a & b)"
   ]
  },
  {
   "cell_type": "code",
   "execution_count": 9,
   "id": "d0402c8d-be39-450f-ab89-067fe5bda114",
   "metadata": {},
   "outputs": [
    {
     "name": "stdout",
     "output_type": "stream",
     "text": [
      "True\n"
     ]
    }
   ],
   "source": [
    "print(a | b)"
   ]
  },
  {
   "cell_type": "markdown",
   "id": "05a75785-0506-4b11-9cb2-60e8109bdd69",
   "metadata": {},
   "source": [
    "### string"
   ]
  },
  {
   "cell_type": "code",
   "execution_count": 10,
   "id": "bfa69db3-ab94-4cec-989d-69c7855b6d3c",
   "metadata": {},
   "outputs": [
    {
     "name": "stdout",
     "output_type": "stream",
     "text": [
      "<class 'str'>\n",
      "This is a string\n"
     ]
    }
   ],
   "source": [
    "a = 'This is a string'\n",
    "print(type(a))\n",
    "print(a)"
   ]
  },
  {
   "cell_type": "code",
   "execution_count": 11,
   "id": "2b92910d-4352-4845-b7c9-e1886543b086",
   "metadata": {},
   "outputs": [
    {
     "name": "stdout",
     "output_type": "stream",
     "text": [
      "16\n"
     ]
    }
   ],
   "source": [
    "print(len(a))"
   ]
  },
  {
   "cell_type": "code",
   "execution_count": 12,
   "id": "f1ed38be-8b31-4241-a0ab-e2240570ed2c",
   "metadata": {},
   "outputs": [
    {
     "name": "stdout",
     "output_type": "stream",
     "text": [
      "This is a string, please enjoy it\n"
     ]
    }
   ],
   "source": [
    "b = ', please enjoy it'\n",
    "print(a + b)"
   ]
  },
  {
   "cell_type": "code",
   "execution_count": 13,
   "id": "03bd9a98-53c2-4ba7-928d-c42a13af32ab",
   "metadata": {},
   "outputs": [
    {
     "data": {
      "text/plain": [
       "'T'"
      ]
     },
     "execution_count": 13,
     "metadata": {},
     "output_type": "execute_result"
    }
   ],
   "source": [
    "a[0]"
   ]
  },
  {
   "cell_type": "code",
   "execution_count": 14,
   "id": "9c98e788-eace-4f07-81d9-8a282f31453e",
   "metadata": {},
   "outputs": [
    {
     "data": {
      "text/plain": [
       "'This'"
      ]
     },
     "execution_count": 14,
     "metadata": {},
     "output_type": "execute_result"
    }
   ],
   "source": [
    "a[0:4] # a[:4]"
   ]
  },
  {
   "cell_type": "markdown",
   "id": "e70dc3ba-cbc1-4fa7-8731-7508ded53871",
   "metadata": {},
   "source": [
    "## Data Types and Structures\n",
    "- List: Ordered collection of items\n",
    "- Set: Unordered collection of unique items\n",
    "- Tuple: Ordered, immutable collection of items\n",
    "- Dictionary: Unordered collection of key-value pairs\n",
    "\n",
    "| Feature | List | Set | Tuple | Dict |\n",
    "| --- | --- | --- | --- | --- |\n",
    "| Ordered | Yes | No | Yes | No |\n",
    "| Indexing | Yes | No | Yes | Keys act as indexes |\n",
    "| Mutable | Yes | Yes | No | Yes |\n",
    "| Allows Duplicates | Yes | No | Yes | Keys: No, Values: Yes |"
   ]
  },
  {
   "cell_type": "markdown",
   "id": "738e50fb-e27f-49e9-8244-fc6d4330f00c",
   "metadata": {},
   "source": [
    "### list"
   ]
  },
  {
   "cell_type": "code",
   "execution_count": 15,
   "id": "802d5728-c564-459b-b5a6-903ad55d8bc9",
   "metadata": {},
   "outputs": [
    {
     "name": "stdout",
     "output_type": "stream",
     "text": [
      "[1, 2, 3, 4]\n"
     ]
    }
   ],
   "source": [
    "l = [1, 2, 3, 4]\n",
    "print(l)"
   ]
  },
  {
   "cell_type": "code",
   "execution_count": 16,
   "id": "53302498-16ba-4f2c-8c9c-1ff0e21a51fe",
   "metadata": {},
   "outputs": [
    {
     "name": "stdout",
     "output_type": "stream",
     "text": [
      "2\n"
     ]
    }
   ],
   "source": [
    "# indexing\n",
    "\n",
    "print(l[1])"
   ]
  },
  {
   "cell_type": "code",
   "execution_count": 17,
   "id": "07245943-1369-447e-8f71-29de211e285d",
   "metadata": {},
   "outputs": [
    {
     "name": "stdout",
     "output_type": "stream",
     "text": [
      "[1, 2, 5, 4]\n"
     ]
    }
   ],
   "source": [
    "# mutable\n",
    "\n",
    "l[2] = 5\n",
    "print(l)"
   ]
  },
  {
   "cell_type": "code",
   "execution_count": 18,
   "id": "27fba1dd-2448-4ab1-bcb6-776b7265f3dc",
   "metadata": {},
   "outputs": [
    {
     "name": "stdout",
     "output_type": "stream",
     "text": [
      "[1, 2, 5, 4, 6]\n"
     ]
    }
   ],
   "source": [
    "# duplicates\n",
    "\n",
    "l.append(6)\n",
    "print(l)"
   ]
  },
  {
   "cell_type": "markdown",
   "id": "0691e848-a1cd-4453-b3f1-70500a2137ad",
   "metadata": {},
   "source": [
    "### set"
   ]
  },
  {
   "cell_type": "code",
   "execution_count": 19,
   "id": "9f772374-8658-4c47-b329-25f76d1570b4",
   "metadata": {},
   "outputs": [
    {
     "name": "stdout",
     "output_type": "stream",
     "text": [
      "{1, 2, 3, 4}\n"
     ]
    }
   ],
   "source": [
    "s = set({1, 2, 3, 4})\n",
    "print(s)"
   ]
  },
  {
   "cell_type": "code",
   "execution_count": 20,
   "id": "fc8c0a6f-faf9-45f7-bda2-3933c55148b0",
   "metadata": {},
   "outputs": [
    {
     "name": "stdout",
     "output_type": "stream",
     "text": [
      "{1, 2, 3, 4, 5}\n"
     ]
    }
   ],
   "source": [
    "# mutable\n",
    "\n",
    "s.add(5)\n",
    "print(s)"
   ]
  },
  {
   "cell_type": "code",
   "execution_count": 21,
   "id": "dc159759-3236-40af-8511-ecf99b4a1714",
   "metadata": {},
   "outputs": [
    {
     "name": "stdout",
     "output_type": "stream",
     "text": [
      "{1, 2, 3, 5}\n"
     ]
    }
   ],
   "source": [
    "s.remove(4)\n",
    "print(s)"
   ]
  },
  {
   "cell_type": "markdown",
   "id": "5bebc993-eb52-446a-8ac5-0dbcac17a184",
   "metadata": {},
   "source": [
    "### tuple"
   ]
  },
  {
   "cell_type": "code",
   "execution_count": 22,
   "id": "81f75f07-40e2-4539-81ab-deee47e8e21e",
   "metadata": {},
   "outputs": [
    {
     "name": "stdout",
     "output_type": "stream",
     "text": [
      "(1, 2, 3, 4)\n"
     ]
    }
   ],
   "source": [
    "t = tuple([1, 2, 3, 4])\n",
    "print(t)"
   ]
  },
  {
   "cell_type": "code",
   "execution_count": 23,
   "id": "c0693ddc-3661-4b7d-9a02-cf40e3ec09a5",
   "metadata": {},
   "outputs": [
    {
     "name": "stdout",
     "output_type": "stream",
     "text": [
      "3\n"
     ]
    }
   ],
   "source": [
    "# indexing\n",
    "\n",
    "print(t[2])"
   ]
  },
  {
   "cell_type": "markdown",
   "id": "71cf7700-9183-408e-8196-680ee488dc4a",
   "metadata": {},
   "source": [
    "### dictionary"
   ]
  },
  {
   "cell_type": "code",
   "execution_count": 24,
   "id": "4ee03289-2d22-4c73-8c96-7e96f6d0676b",
   "metadata": {},
   "outputs": [
    {
     "name": "stdout",
     "output_type": "stream",
     "text": [
      "{'a': 1, 'b': 2, 'c': 3}\n"
     ]
    }
   ],
   "source": [
    "d = dict({'a':1, 'b':2, 'c':3})\n",
    "print(d)"
   ]
  },
  {
   "cell_type": "code",
   "execution_count": 25,
   "id": "2bde9030-f51d-4929-81b3-9f861cf65b9f",
   "metadata": {},
   "outputs": [
    {
     "name": "stdout",
     "output_type": "stream",
     "text": [
      "3\n"
     ]
    }
   ],
   "source": [
    "# indexing\n",
    "\n",
    "print(d['c'])"
   ]
  },
  {
   "cell_type": "code",
   "execution_count": 26,
   "id": "029c1462-bf7c-4bf8-859e-01c9c05bcc27",
   "metadata": {},
   "outputs": [
    {
     "name": "stdout",
     "output_type": "stream",
     "text": [
      "{'a': 1, 'b': 4, 'c': 3}\n"
     ]
    }
   ],
   "source": [
    "# mutable\n",
    "\n",
    "d['b'] = 4\n",
    "print(d)"
   ]
  },
  {
   "cell_type": "code",
   "execution_count": 27,
   "id": "0ddf330d-d98d-44ca-9ccd-b24206e8de6b",
   "metadata": {},
   "outputs": [
    {
     "name": "stdout",
     "output_type": "stream",
     "text": [
      "{'a': 1, 'b': 4, 'c': 3, 'd': 1}\n"
     ]
    }
   ],
   "source": [
    "# duplicates\n",
    "\n",
    "d['d'] = 1\n",
    "print(d)"
   ]
  },
  {
   "cell_type": "markdown",
   "id": "e560670b-c97f-44cc-9bd0-8a7dfc6b6e43",
   "metadata": {},
   "source": [
    "## Conditional Statements\n",
    "\n",
    "Conditional statements allow your program to make decisions based on certain conditions.\n",
    "\n",
    "- `if`: Executes a block of code if the condition is `True`.\n",
    "- `elif`: (short for \"else if\") Checks another condition if the previous `if` or `elif` was `False`.\n",
    "- `else`: Executes a block of code if all previous conditions were `False`."
   ]
  },
  {
   "cell_type": "code",
   "execution_count": 28,
   "id": "4bd40ee7-a953-4eab-9b4a-c0fbddda4c3d",
   "metadata": {},
   "outputs": [
    {
     "name": "stdout",
     "output_type": "stream",
     "text": [
      "Thank goodness it's Friday!\n"
     ]
    }
   ],
   "source": [
    "today = \"friday\"\n",
    "\n",
    "if today == \"friday\":\n",
    "    print(\"Thank goodness it's Friday!\")\n",
    "elif today == \"thursday\":\n",
    "    print(\"One more day to Friday!\")\n",
    "else:\n",
    "    print(\"Can't wait until it's Friday!\")"
   ]
  },
  {
   "cell_type": "markdown",
   "id": "64687efb-fe8e-4409-a6f2-8dd6c7edab0a",
   "metadata": {},
   "source": [
    "## Looping and Iteration\n",
    "\n",
    "Looping allows you to execute a block of code repeatedly, either a specific number of times or until a condition is met.\n",
    "\n",
    "- `for` Loop: Used for iterating over a sequence (e.g., list, tuple, string, range, dictionary). Executes a block of code for each element in the sequence.\n",
    "\n",
    "- `while` Loop: Repeats as long as a specified condition evaluates to `True`. Useful when the number of iterations is not predetermined."
   ]
  },
  {
   "cell_type": "code",
   "execution_count": 29,
   "id": "4ce9d720-333a-4e01-a177-41839c14ab43",
   "metadata": {},
   "outputs": [
    {
     "name": "stdout",
     "output_type": "stream",
     "text": [
      "1\n",
      "2\n",
      "3\n",
      "4\n"
     ]
    }
   ],
   "source": [
    "# for loop\n",
    "\n",
    "s = [1, 2, 3, 4]\n",
    "for i in s:\n",
    "    print(i)"
   ]
  },
  {
   "cell_type": "code",
   "execution_count": 30,
   "id": "99060a5f-c40a-4a6b-b6a2-7985b7f0ffeb",
   "metadata": {},
   "outputs": [
    {
     "name": "stdout",
     "output_type": "stream",
     "text": [
      "0\n",
      "1\n",
      "2\n",
      "3\n",
      "4\n",
      "5\n",
      "6\n",
      "7\n",
      "8\n",
      "9\n"
     ]
    }
   ],
   "source": [
    "# while loop\n",
    "\n",
    "k = 0\n",
    "while k < 10:\n",
    "    print(k)\n",
    "    k += 1"
   ]
  },
  {
   "cell_type": "markdown",
   "id": "98a9bd9e-3cea-44dc-a6f9-433d683fac11",
   "metadata": {},
   "source": [
    "## Functions\n",
    "\n",
    "A function is a block of reusable code that performs a specific task."
   ]
  },
  {
   "cell_type": "code",
   "execution_count": 31,
   "id": "6bc9fd7b-ed73-4c81-a29c-7a411e7532a1",
   "metadata": {},
   "outputs": [
    {
     "name": "stdout",
     "output_type": "stream",
     "text": [
      "3\n"
     ]
    }
   ],
   "source": [
    "def F(x):\n",
    "    return x + 2\n",
    "\n",
    "x = 1\n",
    "print(F(x))"
   ]
  },
  {
   "cell_type": "code",
   "execution_count": 32,
   "id": "1e0dcdc3-e1d4-4eb7-94ab-7c1d51fb1c7d",
   "metadata": {},
   "outputs": [
    {
     "name": "stdout",
     "output_type": "stream",
     "text": [
      "x is even\n"
     ]
    }
   ],
   "source": [
    "def F(x):\n",
    "    if x%2 == 0:\n",
    "        print(\"x is even\")\n",
    "    else:\n",
    "        print(\"x is odd\")\n",
    "\n",
    "x = 4\n",
    "F(x)"
   ]
  },
  {
   "cell_type": "markdown",
   "id": "92eb90f4-575b-44be-8221-44431641af94",
   "metadata": {},
   "source": [
    "**NOW YOU TRY: Write a Function to List All Even Numbers**\n",
    "\n",
    "Task:\n",
    "Create a function that takes a list of numbers as input and return a list of all even numbers from the input.\n",
    "\n",
    "The function should:\n",
    "- Accept a single list of numbers as input.\n",
    "- Use the modulo operator `%` to check if a number is even.\n",
    "- Return a new list containing only the even numbers from the input list."
   ]
  },
  {
   "cell_type": "code",
   "execution_count": 33,
   "id": "8e5961e2-0078-472c-90fa-774a4ca00093",
   "metadata": {},
   "outputs": [
    {
     "name": "stdout",
     "output_type": "stream",
     "text": [
      "[2, 4, 6]\n"
     ]
    }
   ],
   "source": [
    "def ListEven(li):\n",
    "    even_li = list()\n",
    "    for i in li:\n",
    "        if i%2 == 0:\n",
    "            even_li.append(i)\n",
    "    return even_li\n",
    "\n",
    "li = [1,2,3,4,5,6]\n",
    "even_li = ListEven(li)\n",
    "print(even_li)"
   ]
  },
  {
   "cell_type": "code",
   "execution_count": 34,
   "id": "7d46d089",
   "metadata": {},
   "outputs": [
    {
     "data": {
      "text/plain": [
       "[2, 4, 6]"
      ]
     },
     "execution_count": 34,
     "metadata": {},
     "output_type": "execute_result"
    }
   ],
   "source": [
    "# list comprehension\n",
    "[i for i in li if i%2==0]"
   ]
  },
  {
   "cell_type": "markdown",
   "id": "dcbfe2f7-aab5-4eae-8da1-5c610069a778",
   "metadata": {},
   "source": [
    "# Packages\n",
    "---"
   ]
  },
  {
   "cell_type": "code",
   "execution_count": 35,
   "id": "8d6fa2b1-1755-45bd-a2e9-6492c7309c57",
   "metadata": {},
   "outputs": [],
   "source": [
    "import numpy as np\n",
    "import pandas as pd\n",
    "import matplotlib.pyplot as plt\n",
    "import seaborn as sns"
   ]
  },
  {
   "cell_type": "markdown",
   "id": "f114acb2-474d-401f-ba72-2f2d703c951d",
   "metadata": {},
   "source": [
    "## Numpy\n",
    "A library for high-performance operations on multi-dimensional arrays and matrices, along with mathematical functions."
   ]
  },
  {
   "cell_type": "code",
   "execution_count": 36,
   "id": "a31376f5-2915-43f7-82b2-c0cf6d50d472",
   "metadata": {},
   "outputs": [],
   "source": [
    "li = [1,2,3,4]\n",
    "arr = np.array(li)"
   ]
  },
  {
   "cell_type": "code",
   "execution_count": 37,
   "id": "e661e1e3-6598-40dc-80b3-0d6be6d03733",
   "metadata": {},
   "outputs": [
    {
     "data": {
      "text/plain": [
       "np.int64(10)"
      ]
     },
     "execution_count": 37,
     "metadata": {},
     "output_type": "execute_result"
    }
   ],
   "source": [
    "# sum\n",
    "\n",
    "np.sum(arr)"
   ]
  },
  {
   "cell_type": "code",
   "execution_count": 38,
   "id": "a2548c63-4fec-4cb5-9f40-1df824402451",
   "metadata": {},
   "outputs": [
    {
     "data": {
      "text/plain": [
       "np.float64(2.5)"
      ]
     },
     "execution_count": 38,
     "metadata": {},
     "output_type": "execute_result"
    }
   ],
   "source": [
    "# mean\n",
    "\n",
    "np.mean(arr)"
   ]
  },
  {
   "cell_type": "markdown",
   "id": "8b63e3c6-8e43-436c-a46b-b2b251654dfa",
   "metadata": {},
   "source": [
    "**NOW YOU TRY: Write a Function to Calculate Standard Deviation**\n",
    "\n",
    "Task:\n",
    "Create a function that takes a list of numbers as input and return the standard deviation (STD).\n",
    "\n",
    "$$\n",
    "\\sigma = \\sqrt{\\frac{1}{N} \\sum_{i=1}^{N} (x_i - \\mu)^2}\n",
    "$$"
   ]
  },
  {
   "cell_type": "code",
   "execution_count": 39,
   "id": "fbb76a75-6341-4150-bbc3-1215eb78612f",
   "metadata": {},
   "outputs": [
    {
     "data": {
      "text/plain": [
       "np.float64(1.118033988749895)"
      ]
     },
     "execution_count": 39,
     "metadata": {},
     "output_type": "execute_result"
    }
   ],
   "source": [
    "def STD(li):\n",
    "    # calculate the mean\n",
    "    mu = sum(li)/len(li)\n",
    "    \n",
    "    # calculate the squared difference\n",
    "    diff = [(i-mu)**2 for i in li]\n",
    "    \n",
    "    # compute the average of squared difference\n",
    "    avg_diff = sum(diff) / len(diff)\n",
    "    \n",
    "    # take the square root\n",
    "    std = avg_diff**0.5\n",
    "    \n",
    "    return std\n",
    "\n",
    "\n",
    "STD(arr)"
   ]
  },
  {
   "cell_type": "code",
   "execution_count": 40,
   "id": "e37f098f-ae55-42a5-b9db-cc1cc8dde9cd",
   "metadata": {},
   "outputs": [
    {
     "data": {
      "text/plain": [
       "np.float64(1.118033988749895)"
      ]
     },
     "execution_count": 40,
     "metadata": {},
     "output_type": "execute_result"
    }
   ],
   "source": [
    "# using numpy\n",
    "\n",
    "np.std(arr)"
   ]
  },
  {
   "cell_type": "markdown",
   "id": "e4e1e1ab-ca08-4948-b0fb-ca3f384dbdd6",
   "metadata": {},
   "source": [
    "## Pandas\n",
    "A library for data manipulation and analysis, particularly for tabular data."
   ]
  },
  {
   "cell_type": "code",
   "execution_count": 41,
   "id": "37718a55-43ce-4d94-925c-44404a952bbc",
   "metadata": {
    "scrolled": true
   },
   "outputs": [],
   "source": [
    "# read a tsv file\n",
    "file = 'data/gene_chrom.tsv'\n",
    "gene_chrom_table = pd.read_csv(file, sep='\\t')"
   ]
  },
  {
   "cell_type": "markdown",
   "id": "ded6e832-6058-46e1-a8fb-13292ea0f723",
   "metadata": {},
   "source": [
    "### check out the data"
   ]
  },
  {
   "cell_type": "code",
   "execution_count": 42,
   "id": "0726aae8-b66b-4bc7-b897-18b354f65d16",
   "metadata": {},
   "outputs": [
    {
     "data": {
      "text/plain": [
       "(30619, 2)"
      ]
     },
     "execution_count": 42,
     "metadata": {},
     "output_type": "execute_result"
    }
   ],
   "source": [
    "gene_chrom_table.shape"
   ]
  },
  {
   "cell_type": "code",
   "execution_count": 43,
   "id": "3a1d8a6d-0aa9-4e38-88c8-9f4ef3d870ca",
   "metadata": {},
   "outputs": [
    {
     "data": {
      "text/plain": [
       "Index(['geneSymbol', 'chromosome'], dtype='object')"
      ]
     },
     "execution_count": 43,
     "metadata": {},
     "output_type": "execute_result"
    }
   ],
   "source": [
    "gene_chrom_table.columns"
   ]
  },
  {
   "cell_type": "code",
   "execution_count": 44,
   "id": "5608ea25-7025-4177-bab4-f23fb58140c5",
   "metadata": {},
   "outputs": [
    {
     "data": {
      "text/html": [
       "<div>\n",
       "<style scoped>\n",
       "    .dataframe tbody tr th:only-of-type {\n",
       "        vertical-align: middle;\n",
       "    }\n",
       "\n",
       "    .dataframe tbody tr th {\n",
       "        vertical-align: top;\n",
       "    }\n",
       "\n",
       "    .dataframe thead th {\n",
       "        text-align: right;\n",
       "    }\n",
       "</style>\n",
       "<table border=\"1\" class=\"dataframe\">\n",
       "  <thead>\n",
       "    <tr style=\"text-align: right;\">\n",
       "      <th></th>\n",
       "      <th>geneSymbol</th>\n",
       "      <th>chromosome</th>\n",
       "    </tr>\n",
       "  </thead>\n",
       "  <tbody>\n",
       "    <tr>\n",
       "      <th>0</th>\n",
       "      <td>DDX11L1</td>\n",
       "      <td>chr1</td>\n",
       "    </tr>\n",
       "    <tr>\n",
       "      <th>1</th>\n",
       "      <td>OR4F5</td>\n",
       "      <td>chr1</td>\n",
       "    </tr>\n",
       "    <tr>\n",
       "      <th>2</th>\n",
       "      <td>DQ597235</td>\n",
       "      <td>chr1</td>\n",
       "    </tr>\n",
       "    <tr>\n",
       "      <th>3</th>\n",
       "      <td>DQ599768</td>\n",
       "      <td>chr1</td>\n",
       "    </tr>\n",
       "    <tr>\n",
       "      <th>4</th>\n",
       "      <td>LOC100132062</td>\n",
       "      <td>chr1</td>\n",
       "    </tr>\n",
       "  </tbody>\n",
       "</table>\n",
       "</div>"
      ],
      "text/plain": [
       "     geneSymbol chromosome\n",
       "0       DDX11L1       chr1\n",
       "1         OR4F5       chr1\n",
       "2      DQ597235       chr1\n",
       "3      DQ599768       chr1\n",
       "4  LOC100132062       chr1"
      ]
     },
     "execution_count": 44,
     "metadata": {},
     "output_type": "execute_result"
    }
   ],
   "source": [
    "gene_chrom_table.head()"
   ]
  },
  {
   "cell_type": "code",
   "execution_count": 45,
   "id": "2074e61d-51af-4dd3-84fb-723987dfadbe",
   "metadata": {},
   "outputs": [
    {
     "data": {
      "text/html": [
       "<div>\n",
       "<style scoped>\n",
       "    .dataframe tbody tr th:only-of-type {\n",
       "        vertical-align: middle;\n",
       "    }\n",
       "\n",
       "    .dataframe tbody tr th {\n",
       "        vertical-align: top;\n",
       "    }\n",
       "\n",
       "    .dataframe thead th {\n",
       "        text-align: right;\n",
       "    }\n",
       "</style>\n",
       "<table border=\"1\" class=\"dataframe\">\n",
       "  <thead>\n",
       "    <tr style=\"text-align: right;\">\n",
       "      <th></th>\n",
       "      <th>geneSymbol</th>\n",
       "      <th>chromosome</th>\n",
       "    </tr>\n",
       "  </thead>\n",
       "  <tbody>\n",
       "    <tr>\n",
       "      <th>30614</th>\n",
       "      <td>U3</td>\n",
       "      <td>chrX</td>\n",
       "    </tr>\n",
       "    <tr>\n",
       "      <th>30615</th>\n",
       "      <td>SNORD112</td>\n",
       "      <td>chrX</td>\n",
       "    </tr>\n",
       "    <tr>\n",
       "      <th>30616</th>\n",
       "      <td>U7</td>\n",
       "      <td>chrX</td>\n",
       "    </tr>\n",
       "    <tr>\n",
       "      <th>30617</th>\n",
       "      <td>Mir_105</td>\n",
       "      <td>chrX</td>\n",
       "    </tr>\n",
       "    <tr>\n",
       "      <th>30618</th>\n",
       "      <td>U6</td>\n",
       "      <td>chrY</td>\n",
       "    </tr>\n",
       "  </tbody>\n",
       "</table>\n",
       "</div>"
      ],
      "text/plain": [
       "      geneSymbol chromosome\n",
       "30614         U3       chrX\n",
       "30615   SNORD112       chrX\n",
       "30616         U7       chrX\n",
       "30617    Mir_105       chrX\n",
       "30618         U6       chrY"
      ]
     },
     "execution_count": 45,
     "metadata": {},
     "output_type": "execute_result"
    }
   ],
   "source": [
    "gene_chrom_table.tail()"
   ]
  },
  {
   "cell_type": "markdown",
   "id": "156154f3-aae1-434d-83cf-d6dbfce9c155",
   "metadata": {},
   "source": [
    "### indexing"
   ]
  },
  {
   "cell_type": "code",
   "execution_count": 46,
   "id": "1464f373-5c4a-4e07-9c66-e8498e62f2e9",
   "metadata": {},
   "outputs": [
    {
     "data": {
      "text/plain": [
       "geneSymbol    DQ599768\n",
       "chromosome        chr1\n",
       "Name: 3, dtype: object"
      ]
     },
     "execution_count": 46,
     "metadata": {},
     "output_type": "execute_result"
    }
   ],
   "source": [
    "gene_chrom_table.loc[3]"
   ]
  },
  {
   "cell_type": "code",
   "execution_count": 47,
   "id": "d5049069-4fbb-45a0-ae58-4255ac68bb0b",
   "metadata": {},
   "outputs": [
    {
     "data": {
      "text/plain": [
       "'DQ599768'"
      ]
     },
     "execution_count": 47,
     "metadata": {},
     "output_type": "execute_result"
    }
   ],
   "source": [
    "gene_chrom_table.loc[3, 'geneSymbol']"
   ]
  },
  {
   "cell_type": "markdown",
   "id": "cdc49329-1658-4062-beb7-3a72626de91c",
   "metadata": {},
   "source": [
    "### filtering"
   ]
  },
  {
   "cell_type": "code",
   "execution_count": 48,
   "id": "897112d6-2aea-4678-a98c-76f91f25b8f7",
   "metadata": {},
   "outputs": [
    {
     "data": {
      "text/html": [
       "<div>\n",
       "<style scoped>\n",
       "    .dataframe tbody tr th:only-of-type {\n",
       "        vertical-align: middle;\n",
       "    }\n",
       "\n",
       "    .dataframe tbody tr th {\n",
       "        vertical-align: top;\n",
       "    }\n",
       "\n",
       "    .dataframe thead th {\n",
       "        text-align: right;\n",
       "    }\n",
       "</style>\n",
       "<table border=\"1\" class=\"dataframe\">\n",
       "  <thead>\n",
       "    <tr style=\"text-align: right;\">\n",
       "      <th></th>\n",
       "      <th>geneSymbol</th>\n",
       "      <th>chromosome</th>\n",
       "    </tr>\n",
       "  </thead>\n",
       "  <tbody>\n",
       "    <tr>\n",
       "      <th>11939</th>\n",
       "      <td>TP53</td>\n",
       "      <td>chr17</td>\n",
       "    </tr>\n",
       "  </tbody>\n",
       "</table>\n",
       "</div>"
      ],
      "text/plain": [
       "      geneSymbol chromosome\n",
       "11939       TP53      chr17"
      ]
     },
     "execution_count": 48,
     "metadata": {},
     "output_type": "execute_result"
    }
   ],
   "source": [
    "gene_chrom_table[gene_chrom_table.geneSymbol == 'TP53']"
   ]
  },
  {
   "cell_type": "code",
   "execution_count": 49,
   "id": "18286285-8db1-4949-bd38-8f4c37634745",
   "metadata": {},
   "outputs": [
    {
     "data": {
      "text/html": [
       "<div>\n",
       "<style scoped>\n",
       "    .dataframe tbody tr th:only-of-type {\n",
       "        vertical-align: middle;\n",
       "    }\n",
       "\n",
       "    .dataframe tbody tr th {\n",
       "        vertical-align: top;\n",
       "    }\n",
       "\n",
       "    .dataframe thead th {\n",
       "        text-align: right;\n",
       "    }\n",
       "</style>\n",
       "<table border=\"1\" class=\"dataframe\">\n",
       "  <thead>\n",
       "    <tr style=\"text-align: right;\">\n",
       "      <th></th>\n",
       "      <th>geneSymbol</th>\n",
       "      <th>chromosome</th>\n",
       "    </tr>\n",
       "  </thead>\n",
       "  <tbody>\n",
       "    <tr>\n",
       "      <th>11939</th>\n",
       "      <td>TP53</td>\n",
       "      <td>chr17</td>\n",
       "    </tr>\n",
       "    <tr>\n",
       "      <th>12301</th>\n",
       "      <td>BRCA1</td>\n",
       "      <td>chr17</td>\n",
       "    </tr>\n",
       "  </tbody>\n",
       "</table>\n",
       "</div>"
      ],
      "text/plain": [
       "      geneSymbol chromosome\n",
       "11939       TP53      chr17\n",
       "12301      BRCA1      chr17"
      ]
     },
     "execution_count": 49,
     "metadata": {},
     "output_type": "execute_result"
    }
   ],
   "source": [
    "gene_chrom_table[(gene_chrom_table.geneSymbol == 'TP53') | (gene_chrom_table.geneSymbol == 'BRCA1')]"
   ]
  },
  {
   "cell_type": "code",
   "execution_count": 50,
   "id": "14c104cb-c63a-4c83-bdf1-d12b6978cfb1",
   "metadata": {},
   "outputs": [
    {
     "data": {
      "text/html": [
       "<div>\n",
       "<style scoped>\n",
       "    .dataframe tbody tr th:only-of-type {\n",
       "        vertical-align: middle;\n",
       "    }\n",
       "\n",
       "    .dataframe tbody tr th {\n",
       "        vertical-align: top;\n",
       "    }\n",
       "\n",
       "    .dataframe thead th {\n",
       "        text-align: right;\n",
       "    }\n",
       "</style>\n",
       "<table border=\"1\" class=\"dataframe\">\n",
       "  <thead>\n",
       "    <tr style=\"text-align: right;\">\n",
       "      <th></th>\n",
       "      <th>geneSymbol</th>\n",
       "      <th>chromosome</th>\n",
       "    </tr>\n",
       "  </thead>\n",
       "  <tbody>\n",
       "    <tr>\n",
       "      <th>11939</th>\n",
       "      <td>TP53</td>\n",
       "      <td>chr17</td>\n",
       "    </tr>\n",
       "    <tr>\n",
       "      <th>12301</th>\n",
       "      <td>BRCA1</td>\n",
       "      <td>chr17</td>\n",
       "    </tr>\n",
       "  </tbody>\n",
       "</table>\n",
       "</div>"
      ],
      "text/plain": [
       "      geneSymbol chromosome\n",
       "11939       TP53      chr17\n",
       "12301      BRCA1      chr17"
      ]
     },
     "execution_count": 50,
     "metadata": {},
     "output_type": "execute_result"
    }
   ],
   "source": [
    "gene_chrom_table[gene_chrom_table.geneSymbol.isin(['TP53', 'BRCA1'])]"
   ]
  },
  {
   "cell_type": "markdown",
   "id": "13157eca-2773-4574-aa3f-2f98ce15045e",
   "metadata": {},
   "source": [
    "### grouping"
   ]
  },
  {
   "cell_type": "code",
   "execution_count": 51,
   "id": "6881e947-1029-4efc-85ca-398c786a7f56",
   "metadata": {
    "scrolled": true
   },
   "outputs": [
    {
     "data": {
      "text/html": [
       "<div>\n",
       "<style scoped>\n",
       "    .dataframe tbody tr th:only-of-type {\n",
       "        vertical-align: middle;\n",
       "    }\n",
       "\n",
       "    .dataframe tbody tr th {\n",
       "        vertical-align: top;\n",
       "    }\n",
       "\n",
       "    .dataframe thead th {\n",
       "        text-align: right;\n",
       "    }\n",
       "</style>\n",
       "<table border=\"1\" class=\"dataframe\">\n",
       "  <thead>\n",
       "    <tr style=\"text-align: right;\">\n",
       "      <th></th>\n",
       "      <th>geneSymbol</th>\n",
       "    </tr>\n",
       "    <tr>\n",
       "      <th>chromosome</th>\n",
       "      <th></th>\n",
       "    </tr>\n",
       "  </thead>\n",
       "  <tbody>\n",
       "    <tr>\n",
       "      <th>chr1</th>\n",
       "      <td>2735</td>\n",
       "    </tr>\n",
       "    <tr>\n",
       "      <th>chr10</th>\n",
       "      <td>1162</td>\n",
       "    </tr>\n",
       "    <tr>\n",
       "      <th>chr11</th>\n",
       "      <td>1817</td>\n",
       "    </tr>\n",
       "    <tr>\n",
       "      <th>chr12</th>\n",
       "      <td>1382</td>\n",
       "    </tr>\n",
       "    <tr>\n",
       "      <th>chr13</th>\n",
       "      <td>566</td>\n",
       "    </tr>\n",
       "    <tr>\n",
       "      <th>chr14</th>\n",
       "      <td>1048</td>\n",
       "    </tr>\n",
       "    <tr>\n",
       "      <th>chr15</th>\n",
       "      <td>1441</td>\n",
       "    </tr>\n",
       "    <tr>\n",
       "      <th>chr16</th>\n",
       "      <td>1148</td>\n",
       "    </tr>\n",
       "    <tr>\n",
       "      <th>chr17</th>\n",
       "      <td>1647</td>\n",
       "    </tr>\n",
       "    <tr>\n",
       "      <th>chr17_ctg5_hap1</th>\n",
       "      <td>26</td>\n",
       "    </tr>\n",
       "    <tr>\n",
       "      <th>chr17_gl000204_random</th>\n",
       "      <td>1</td>\n",
       "    </tr>\n",
       "    <tr>\n",
       "      <th>chr17_gl000205_random</th>\n",
       "      <td>1</td>\n",
       "    </tr>\n",
       "    <tr>\n",
       "      <th>chr18</th>\n",
       "      <td>458</td>\n",
       "    </tr>\n",
       "    <tr>\n",
       "      <th>chr19</th>\n",
       "      <td>1862</td>\n",
       "    </tr>\n",
       "    <tr>\n",
       "      <th>chr19_gl000209_random</th>\n",
       "      <td>10</td>\n",
       "    </tr>\n",
       "    <tr>\n",
       "      <th>chr1_gl000191_random</th>\n",
       "      <td>3</td>\n",
       "    </tr>\n",
       "    <tr>\n",
       "      <th>chr1_gl000192_random</th>\n",
       "      <td>7</td>\n",
       "    </tr>\n",
       "    <tr>\n",
       "      <th>chr2</th>\n",
       "      <td>1763</td>\n",
       "    </tr>\n",
       "    <tr>\n",
       "      <th>chr20</th>\n",
       "      <td>754</td>\n",
       "    </tr>\n",
       "    <tr>\n",
       "      <th>chr21</th>\n",
       "      <td>362</td>\n",
       "    </tr>\n",
       "    <tr>\n",
       "      <th>chr22</th>\n",
       "      <td>729</td>\n",
       "    </tr>\n",
       "    <tr>\n",
       "      <th>chr3</th>\n",
       "      <td>1484</td>\n",
       "    </tr>\n",
       "    <tr>\n",
       "      <th>chr4</th>\n",
       "      <td>1068</td>\n",
       "    </tr>\n",
       "    <tr>\n",
       "      <th>chr4_ctg9_hap1</th>\n",
       "      <td>5</td>\n",
       "    </tr>\n",
       "    <tr>\n",
       "      <th>chr4_gl000193_random</th>\n",
       "      <td>1</td>\n",
       "    </tr>\n",
       "    <tr>\n",
       "      <th>chr4_gl000194_random</th>\n",
       "      <td>3</td>\n",
       "    </tr>\n",
       "    <tr>\n",
       "      <th>chr5</th>\n",
       "      <td>1233</td>\n",
       "    </tr>\n",
       "    <tr>\n",
       "      <th>chr6</th>\n",
       "      <td>1574</td>\n",
       "    </tr>\n",
       "    <tr>\n",
       "      <th>chr6_apd_hap1</th>\n",
       "      <td>109</td>\n",
       "    </tr>\n",
       "    <tr>\n",
       "      <th>chr6_cox_hap2</th>\n",
       "      <td>217</td>\n",
       "    </tr>\n",
       "    <tr>\n",
       "      <th>chr6_dbb_hap3</th>\n",
       "      <td>194</td>\n",
       "    </tr>\n",
       "    <tr>\n",
       "      <th>chr6_mann_hap4</th>\n",
       "      <td>171</td>\n",
       "    </tr>\n",
       "    <tr>\n",
       "      <th>chr6_mcf_hap5</th>\n",
       "      <td>189</td>\n",
       "    </tr>\n",
       "    <tr>\n",
       "      <th>chr6_qbl_hap6</th>\n",
       "      <td>203</td>\n",
       "    </tr>\n",
       "    <tr>\n",
       "      <th>chr6_ssto_hap7</th>\n",
       "      <td>182</td>\n",
       "    </tr>\n",
       "    <tr>\n",
       "      <th>chr7</th>\n",
       "      <td>1469</td>\n",
       "    </tr>\n",
       "    <tr>\n",
       "      <th>chr7_gl000195_random</th>\n",
       "      <td>3</td>\n",
       "    </tr>\n",
       "    <tr>\n",
       "      <th>chr8</th>\n",
       "      <td>1004</td>\n",
       "    </tr>\n",
       "    <tr>\n",
       "      <th>chr9</th>\n",
       "      <td>1237</td>\n",
       "    </tr>\n",
       "    <tr>\n",
       "      <th>chr9_gl000201_random</th>\n",
       "      <td>1</td>\n",
       "    </tr>\n",
       "    <tr>\n",
       "      <th>chrM</th>\n",
       "      <td>20</td>\n",
       "    </tr>\n",
       "    <tr>\n",
       "      <th>chrUn_gl000211</th>\n",
       "      <td>2</td>\n",
       "    </tr>\n",
       "    <tr>\n",
       "      <th>chrUn_gl000212</th>\n",
       "      <td>2</td>\n",
       "    </tr>\n",
       "    <tr>\n",
       "      <th>chrUn_gl000213</th>\n",
       "      <td>4</td>\n",
       "    </tr>\n",
       "    <tr>\n",
       "      <th>chrUn_gl000214</th>\n",
       "      <td>1</td>\n",
       "    </tr>\n",
       "    <tr>\n",
       "      <th>chrUn_gl000218</th>\n",
       "      <td>2</td>\n",
       "    </tr>\n",
       "    <tr>\n",
       "      <th>chrUn_gl000219</th>\n",
       "      <td>3</td>\n",
       "    </tr>\n",
       "    <tr>\n",
       "      <th>chrUn_gl000220</th>\n",
       "      <td>7</td>\n",
       "    </tr>\n",
       "    <tr>\n",
       "      <th>chrUn_gl000221</th>\n",
       "      <td>3</td>\n",
       "    </tr>\n",
       "    <tr>\n",
       "      <th>chrUn_gl000222</th>\n",
       "      <td>4</td>\n",
       "    </tr>\n",
       "    <tr>\n",
       "      <th>chrUn_gl000223</th>\n",
       "      <td>7</td>\n",
       "    </tr>\n",
       "    <tr>\n",
       "      <th>chrUn_gl000227</th>\n",
       "      <td>1</td>\n",
       "    </tr>\n",
       "    <tr>\n",
       "      <th>chrUn_gl000228</th>\n",
       "      <td>7</td>\n",
       "    </tr>\n",
       "    <tr>\n",
       "      <th>chrUn_gl000229</th>\n",
       "      <td>1</td>\n",
       "    </tr>\n",
       "    <tr>\n",
       "      <th>chrUn_gl000237</th>\n",
       "      <td>1</td>\n",
       "    </tr>\n",
       "    <tr>\n",
       "      <th>chrUn_gl000241</th>\n",
       "      <td>1</td>\n",
       "    </tr>\n",
       "    <tr>\n",
       "      <th>chrUn_gl000243</th>\n",
       "      <td>2</td>\n",
       "    </tr>\n",
       "    <tr>\n",
       "      <th>chrUn_gl000247</th>\n",
       "      <td>1</td>\n",
       "    </tr>\n",
       "    <tr>\n",
       "      <th>chrX</th>\n",
       "      <td>1148</td>\n",
       "    </tr>\n",
       "    <tr>\n",
       "      <th>chrY</th>\n",
       "      <td>133</td>\n",
       "    </tr>\n",
       "  </tbody>\n",
       "</table>\n",
       "</div>"
      ],
      "text/plain": [
       "                       geneSymbol\n",
       "chromosome                       \n",
       "chr1                         2735\n",
       "chr10                        1162\n",
       "chr11                        1817\n",
       "chr12                        1382\n",
       "chr13                         566\n",
       "chr14                        1048\n",
       "chr15                        1441\n",
       "chr16                        1148\n",
       "chr17                        1647\n",
       "chr17_ctg5_hap1                26\n",
       "chr17_gl000204_random           1\n",
       "chr17_gl000205_random           1\n",
       "chr18                         458\n",
       "chr19                        1862\n",
       "chr19_gl000209_random          10\n",
       "chr1_gl000191_random            3\n",
       "chr1_gl000192_random            7\n",
       "chr2                         1763\n",
       "chr20                         754\n",
       "chr21                         362\n",
       "chr22                         729\n",
       "chr3                         1484\n",
       "chr4                         1068\n",
       "chr4_ctg9_hap1                  5\n",
       "chr4_gl000193_random            1\n",
       "chr4_gl000194_random            3\n",
       "chr5                         1233\n",
       "chr6                         1574\n",
       "chr6_apd_hap1                 109\n",
       "chr6_cox_hap2                 217\n",
       "chr6_dbb_hap3                 194\n",
       "chr6_mann_hap4                171\n",
       "chr6_mcf_hap5                 189\n",
       "chr6_qbl_hap6                 203\n",
       "chr6_ssto_hap7                182\n",
       "chr7                         1469\n",
       "chr7_gl000195_random            3\n",
       "chr8                         1004\n",
       "chr9                         1237\n",
       "chr9_gl000201_random            1\n",
       "chrM                           20\n",
       "chrUn_gl000211                  2\n",
       "chrUn_gl000212                  2\n",
       "chrUn_gl000213                  4\n",
       "chrUn_gl000214                  1\n",
       "chrUn_gl000218                  2\n",
       "chrUn_gl000219                  3\n",
       "chrUn_gl000220                  7\n",
       "chrUn_gl000221                  3\n",
       "chrUn_gl000222                  4\n",
       "chrUn_gl000223                  7\n",
       "chrUn_gl000227                  1\n",
       "chrUn_gl000228                  7\n",
       "chrUn_gl000229                  1\n",
       "chrUn_gl000237                  1\n",
       "chrUn_gl000241                  1\n",
       "chrUn_gl000243                  2\n",
       "chrUn_gl000247                  1\n",
       "chrX                         1148\n",
       "chrY                          133"
      ]
     },
     "execution_count": 51,
     "metadata": {},
     "output_type": "execute_result"
    }
   ],
   "source": [
    "gene_chrom_table.groupby('chromosome').count()"
   ]
  },
  {
   "cell_type": "markdown",
   "id": "f4d42ae7-c852-4129-bcc0-86bf946f89c5",
   "metadata": {},
   "source": [
    "---"
   ]
  },
  {
   "cell_type": "markdown",
   "id": "4ab83c8a-995f-497a-83d5-edf7e8aee3b2",
   "metadata": {},
   "source": [
    "### read an intypical tsv file"
   ]
  },
  {
   "cell_type": "code",
   "execution_count": 52,
   "id": "b2b529da-f342-4507-b4dc-a8d6d208916c",
   "metadata": {},
   "outputs": [
    {
     "data": {
      "text/html": [
       "<div>\n",
       "<style scoped>\n",
       "    .dataframe tbody tr th:only-of-type {\n",
       "        vertical-align: middle;\n",
       "    }\n",
       "\n",
       "    .dataframe tbody tr th {\n",
       "        vertical-align: top;\n",
       "    }\n",
       "\n",
       "    .dataframe thead th {\n",
       "        text-align: right;\n",
       "    }\n",
       "</style>\n",
       "<table border=\"1\" class=\"dataframe\">\n",
       "  <thead>\n",
       "    <tr style=\"text-align: right;\">\n",
       "      <th></th>\n",
       "      <th>chrom</th>\n",
       "      <th>length</th>\n",
       "    </tr>\n",
       "  </thead>\n",
       "  <tbody>\n",
       "    <tr>\n",
       "      <th>0</th>\n",
       "      <td>1</td>\n",
       "      <td>249,698,942</td>\n",
       "    </tr>\n",
       "    <tr>\n",
       "      <th>1</th>\n",
       "      <td>2</td>\n",
       "      <td>242,508,799</td>\n",
       "    </tr>\n",
       "    <tr>\n",
       "      <th>2</th>\n",
       "      <td>3</td>\n",
       "      <td>198,450,956</td>\n",
       "    </tr>\n",
       "    <tr>\n",
       "      <th>3</th>\n",
       "      <td>4</td>\n",
       "      <td>190,424,264</td>\n",
       "    </tr>\n",
       "    <tr>\n",
       "      <th>4</th>\n",
       "      <td>5</td>\n",
       "      <td>181,630,948</td>\n",
       "    </tr>\n",
       "  </tbody>\n",
       "</table>\n",
       "</div>"
      ],
      "text/plain": [
       "  chrom       length\n",
       "0     1  249,698,942\n",
       "1     2  242,508,799\n",
       "2     3  198,450,956\n",
       "3     4  190,424,264\n",
       "4     5  181,630,948"
      ]
     },
     "execution_count": 52,
     "metadata": {},
     "output_type": "execute_result"
    }
   ],
   "source": [
    "file = 'data/chrom_lengths.tsv'\n",
    "chrom_length_table = pd.read_csv(file, sep=' ', names=['chrom', 'length'])\n",
    "chrom_length_table.head()"
   ]
  },
  {
   "cell_type": "code",
   "execution_count": 53,
   "id": "3427a314-0946-477f-9b90-2ec983c53bd5",
   "metadata": {},
   "outputs": [
    {
     "data": {
      "text/plain": [
       "dtype('O')"
      ]
     },
     "execution_count": 53,
     "metadata": {},
     "output_type": "execute_result"
    }
   ],
   "source": [
    "chrom_length_table['length'].dtype"
   ]
  },
  {
   "cell_type": "code",
   "execution_count": 54,
   "id": "c153cb9b-2d77-4772-87c9-9bb6fcf95dc6",
   "metadata": {},
   "outputs": [
    {
     "data": {
      "text/html": [
       "<div>\n",
       "<style scoped>\n",
       "    .dataframe tbody tr th:only-of-type {\n",
       "        vertical-align: middle;\n",
       "    }\n",
       "\n",
       "    .dataframe tbody tr th {\n",
       "        vertical-align: top;\n",
       "    }\n",
       "\n",
       "    .dataframe thead th {\n",
       "        text-align: right;\n",
       "    }\n",
       "</style>\n",
       "<table border=\"1\" class=\"dataframe\">\n",
       "  <thead>\n",
       "    <tr style=\"text-align: right;\">\n",
       "      <th></th>\n",
       "      <th>chrom</th>\n",
       "      <th>length</th>\n",
       "    </tr>\n",
       "  </thead>\n",
       "  <tbody>\n",
       "    <tr>\n",
       "      <th>0</th>\n",
       "      <td>1</td>\n",
       "      <td>249698942</td>\n",
       "    </tr>\n",
       "    <tr>\n",
       "      <th>1</th>\n",
       "      <td>2</td>\n",
       "      <td>242508799</td>\n",
       "    </tr>\n",
       "    <tr>\n",
       "      <th>2</th>\n",
       "      <td>3</td>\n",
       "      <td>198450956</td>\n",
       "    </tr>\n",
       "    <tr>\n",
       "      <th>3</th>\n",
       "      <td>4</td>\n",
       "      <td>190424264</td>\n",
       "    </tr>\n",
       "    <tr>\n",
       "      <th>4</th>\n",
       "      <td>5</td>\n",
       "      <td>181630948</td>\n",
       "    </tr>\n",
       "  </tbody>\n",
       "</table>\n",
       "</div>"
      ],
      "text/plain": [
       "  chrom     length\n",
       "0     1  249698942\n",
       "1     2  242508799\n",
       "2     3  198450956\n",
       "3     4  190424264\n",
       "4     5  181630948"
      ]
     },
     "execution_count": 54,
     "metadata": {},
     "output_type": "execute_result"
    }
   ],
   "source": [
    "# string conversion of numbers\n",
    "chrom_length_table = pd.read_csv(file, sep=' ', names=['chrom', 'length'], thousands=',')\n",
    "chrom_length_table.head()"
   ]
  },
  {
   "cell_type": "code",
   "execution_count": 55,
   "id": "c5e9d7b7-e4c3-4eda-9a2a-4a91932d1b50",
   "metadata": {},
   "outputs": [
    {
     "data": {
      "text/plain": [
       "dtype('int64')"
      ]
     },
     "execution_count": 55,
     "metadata": {},
     "output_type": "execute_result"
    }
   ],
   "source": [
    "chrom_length_table['length'].dtype"
   ]
  },
  {
   "cell_type": "markdown",
   "id": "f19b4768-634c-42a3-8b9f-e9d637b604d3",
   "metadata": {},
   "source": [
    "### modify data"
   ]
  },
  {
   "cell_type": "code",
   "execution_count": 56,
   "id": "3ecfe17f-dee6-40d7-ae41-c7a405912fb5",
   "metadata": {},
   "outputs": [
    {
     "data": {
      "text/plain": [
       "0      chr1\n",
       "1      chr2\n",
       "2      chr3\n",
       "3      chr4\n",
       "4      chr5\n",
       "5      chr6\n",
       "6      chr7\n",
       "7      chr8\n",
       "8      chr9\n",
       "9     chr10\n",
       "10    chr11\n",
       "11    chr12\n",
       "12    chr13\n",
       "13    chr14\n",
       "14    chr15\n",
       "15    chr16\n",
       "16    chr17\n",
       "17    chr18\n",
       "18    chr19\n",
       "19    chr20\n",
       "20    chr21\n",
       "21    chr22\n",
       "22     chrX\n",
       "23     chrY\n",
       "Name: chrom, dtype: object"
      ]
     },
     "execution_count": 56,
     "metadata": {},
     "output_type": "execute_result"
    }
   ],
   "source": [
    "# string\n",
    "'chr' + chrom_length_table['chrom']"
   ]
  },
  {
   "cell_type": "code",
   "execution_count": 57,
   "id": "4e99c8c2-8393-4128-af20-6315a26d98d8",
   "metadata": {},
   "outputs": [
    {
     "data": {
      "text/plain": [
       "0     249.698942\n",
       "1     242.508799\n",
       "2     198.450956\n",
       "3     190.424264\n",
       "4     181.630948\n",
       "5     170.805979\n",
       "6     159.345973\n",
       "7     145.138636\n",
       "8     138.688728\n",
       "9     133.797422\n",
       "10    135.186938\n",
       "11    133.275309\n",
       "12    114.364328\n",
       "13    108.136338\n",
       "14    102.439437\n",
       "15     92.211104\n",
       "16     83.836422\n",
       "17     80.373285\n",
       "18     58.617616\n",
       "19     64.444167\n",
       "20     46.709983\n",
       "21     51.857516\n",
       "22    156.040895\n",
       "23     57.264655\n",
       "Name: length, dtype: float64"
      ]
     },
     "execution_count": 57,
     "metadata": {},
     "output_type": "execute_result"
    }
   ],
   "source": [
    "# float\n",
    "chrom_length_table['length']/(10**6)"
   ]
  },
  {
   "cell_type": "code",
   "execution_count": 58,
   "id": "acbc8d83-053b-41c6-b5ed-fe5a82bc558d",
   "metadata": {},
   "outputs": [
    {
     "data": {
      "text/html": [
       "<div>\n",
       "<style scoped>\n",
       "    .dataframe tbody tr th:only-of-type {\n",
       "        vertical-align: middle;\n",
       "    }\n",
       "\n",
       "    .dataframe tbody tr th {\n",
       "        vertical-align: top;\n",
       "    }\n",
       "\n",
       "    .dataframe thead th {\n",
       "        text-align: right;\n",
       "    }\n",
       "</style>\n",
       "<table border=\"1\" class=\"dataframe\">\n",
       "  <thead>\n",
       "    <tr style=\"text-align: right;\">\n",
       "      <th></th>\n",
       "      <th>chrom</th>\n",
       "      <th>length</th>\n",
       "      <th>length(Mb)</th>\n",
       "    </tr>\n",
       "  </thead>\n",
       "  <tbody>\n",
       "    <tr>\n",
       "      <th>0</th>\n",
       "      <td>1</td>\n",
       "      <td>249698942</td>\n",
       "      <td>249.698942</td>\n",
       "    </tr>\n",
       "    <tr>\n",
       "      <th>1</th>\n",
       "      <td>2</td>\n",
       "      <td>242508799</td>\n",
       "      <td>242.508799</td>\n",
       "    </tr>\n",
       "    <tr>\n",
       "      <th>2</th>\n",
       "      <td>3</td>\n",
       "      <td>198450956</td>\n",
       "      <td>198.450956</td>\n",
       "    </tr>\n",
       "    <tr>\n",
       "      <th>3</th>\n",
       "      <td>4</td>\n",
       "      <td>190424264</td>\n",
       "      <td>190.424264</td>\n",
       "    </tr>\n",
       "    <tr>\n",
       "      <th>4</th>\n",
       "      <td>5</td>\n",
       "      <td>181630948</td>\n",
       "      <td>181.630948</td>\n",
       "    </tr>\n",
       "  </tbody>\n",
       "</table>\n",
       "</div>"
      ],
      "text/plain": [
       "  chrom     length  length(Mb)\n",
       "0     1  249698942  249.698942\n",
       "1     2  242508799  242.508799\n",
       "2     3  198450956  198.450956\n",
       "3     4  190424264  190.424264\n",
       "4     5  181630948  181.630948"
      ]
     },
     "execution_count": 58,
     "metadata": {},
     "output_type": "execute_result"
    }
   ],
   "source": [
    "chrom_length_table['length(Mb)'] = chrom_length_table['length']/(10**6)\n",
    "chrom_length_table.head()"
   ]
  },
  {
   "cell_type": "markdown",
   "id": "9eb553e3-cf3d-4c2d-82d6-f1f4208134f1",
   "metadata": {},
   "source": [
    "### reset index"
   ]
  },
  {
   "cell_type": "code",
   "execution_count": 59,
   "id": "3b99ea39-d605-4bca-9977-d9ff665f779e",
   "metadata": {
    "scrolled": true
   },
   "outputs": [
    {
     "data": {
      "text/html": [
       "<div>\n",
       "<style scoped>\n",
       "    .dataframe tbody tr th:only-of-type {\n",
       "        vertical-align: middle;\n",
       "    }\n",
       "\n",
       "    .dataframe tbody tr th {\n",
       "        vertical-align: top;\n",
       "    }\n",
       "\n",
       "    .dataframe thead th {\n",
       "        text-align: right;\n",
       "    }\n",
       "</style>\n",
       "<table border=\"1\" class=\"dataframe\">\n",
       "  <thead>\n",
       "    <tr style=\"text-align: right;\">\n",
       "      <th></th>\n",
       "      <th>length</th>\n",
       "      <th>length(Mb)</th>\n",
       "    </tr>\n",
       "    <tr>\n",
       "      <th>chrom</th>\n",
       "      <th></th>\n",
       "      <th></th>\n",
       "    </tr>\n",
       "  </thead>\n",
       "  <tbody>\n",
       "    <tr>\n",
       "      <th>20</th>\n",
       "      <td>64444167</td>\n",
       "      <td>64.444167</td>\n",
       "    </tr>\n",
       "    <tr>\n",
       "      <th>21</th>\n",
       "      <td>46709983</td>\n",
       "      <td>46.709983</td>\n",
       "    </tr>\n",
       "    <tr>\n",
       "      <th>22</th>\n",
       "      <td>51857516</td>\n",
       "      <td>51.857516</td>\n",
       "    </tr>\n",
       "    <tr>\n",
       "      <th>X</th>\n",
       "      <td>156040895</td>\n",
       "      <td>156.040895</td>\n",
       "    </tr>\n",
       "    <tr>\n",
       "      <th>Y</th>\n",
       "      <td>57264655</td>\n",
       "      <td>57.264655</td>\n",
       "    </tr>\n",
       "  </tbody>\n",
       "</table>\n",
       "</div>"
      ],
      "text/plain": [
       "          length  length(Mb)\n",
       "chrom                       \n",
       "20      64444167   64.444167\n",
       "21      46709983   46.709983\n",
       "22      51857516   51.857516\n",
       "X      156040895  156.040895\n",
       "Y       57264655   57.264655"
      ]
     },
     "execution_count": 59,
     "metadata": {},
     "output_type": "execute_result"
    }
   ],
   "source": [
    "chrom_length_table = chrom_length_table.set_index('chrom')\n",
    "chrom_length_table.tail()"
   ]
  },
  {
   "cell_type": "code",
   "execution_count": 60,
   "id": "054a087f-a8d3-489a-90ce-4940268d7348",
   "metadata": {},
   "outputs": [
    {
     "data": {
      "text/html": [
       "<div>\n",
       "<style scoped>\n",
       "    .dataframe tbody tr th:only-of-type {\n",
       "        vertical-align: middle;\n",
       "    }\n",
       "\n",
       "    .dataframe tbody tr th {\n",
       "        vertical-align: top;\n",
       "    }\n",
       "\n",
       "    .dataframe thead th {\n",
       "        text-align: right;\n",
       "    }\n",
       "</style>\n",
       "<table border=\"1\" class=\"dataframe\">\n",
       "  <thead>\n",
       "    <tr style=\"text-align: right;\">\n",
       "      <th></th>\n",
       "      <th>chrom</th>\n",
       "      <th>length</th>\n",
       "      <th>length(Mb)</th>\n",
       "    </tr>\n",
       "  </thead>\n",
       "  <tbody>\n",
       "    <tr>\n",
       "      <th>19</th>\n",
       "      <td>20</td>\n",
       "      <td>64444167</td>\n",
       "      <td>64.444167</td>\n",
       "    </tr>\n",
       "    <tr>\n",
       "      <th>20</th>\n",
       "      <td>21</td>\n",
       "      <td>46709983</td>\n",
       "      <td>46.709983</td>\n",
       "    </tr>\n",
       "    <tr>\n",
       "      <th>21</th>\n",
       "      <td>22</td>\n",
       "      <td>51857516</td>\n",
       "      <td>51.857516</td>\n",
       "    </tr>\n",
       "    <tr>\n",
       "      <th>22</th>\n",
       "      <td>X</td>\n",
       "      <td>156040895</td>\n",
       "      <td>156.040895</td>\n",
       "    </tr>\n",
       "    <tr>\n",
       "      <th>23</th>\n",
       "      <td>Y</td>\n",
       "      <td>57264655</td>\n",
       "      <td>57.264655</td>\n",
       "    </tr>\n",
       "  </tbody>\n",
       "</table>\n",
       "</div>"
      ],
      "text/plain": [
       "   chrom     length  length(Mb)\n",
       "19    20   64444167   64.444167\n",
       "20    21   46709983   46.709983\n",
       "21    22   51857516   51.857516\n",
       "22     X  156040895  156.040895\n",
       "23     Y   57264655   57.264655"
      ]
     },
     "execution_count": 60,
     "metadata": {},
     "output_type": "execute_result"
    }
   ],
   "source": [
    "chrom_length_table = chrom_length_table.reset_index()\n",
    "chrom_length_table.tail()"
   ]
  },
  {
   "cell_type": "markdown",
   "id": "f8856cd8-e5ef-45e6-a6ed-9be5bf59c0a6",
   "metadata": {},
   "source": [
    "---"
   ]
  },
  {
   "cell_type": "markdown",
   "id": "2fc0fed9-9311-45a0-98c1-8e0e3b9b66e8",
   "metadata": {},
   "source": [
    "### Gene density"
   ]
  },
  {
   "cell_type": "markdown",
   "id": "f8160be6-95fc-4e98-b245-a137ff938f5c",
   "metadata": {},
   "source": [
    "**NOW YOU TRY: Compute the Gene Density**\n",
    "\n",
    "Task: Compute the gene density for each chromosome.\n",
    "$$\n",
    "\\text{gene density} = \\frac{\\text{gene count}}{\\text{length (Mb)}}\n",
    "$$"
   ]
  },
  {
   "cell_type": "code",
   "execution_count": 61,
   "id": "cfe62ecb-1a45-4b47-8bdc-3e72d53e55ab",
   "metadata": {},
   "outputs": [],
   "source": [
    "# rename chromosome in chrom_length_table\n",
    "chrom_length_table['chrom'] = 'chr' + chrom_length_table['chrom']"
   ]
  },
  {
   "cell_type": "code",
   "execution_count": 62,
   "id": "9bc26e82-eb21-4b6d-ace1-4b29020da796",
   "metadata": {},
   "outputs": [],
   "source": [
    "# get number of genes of each chromosome using groupby\n",
    "num_genes = gene_chrom_table.groupby('chromosome').size()"
   ]
  },
  {
   "cell_type": "code",
   "execution_count": 63,
   "id": "dcea4e16-d04c-490a-9746-882190916d0c",
   "metadata": {},
   "outputs": [],
   "source": [
    "# merge tables\n",
    "merge_table = chrom_length_table.set_index('chrom')\n",
    "merge_table['num_genes'] = num_genes"
   ]
  },
  {
   "cell_type": "code",
   "execution_count": 64,
   "id": "032adc5d-14ce-42fe-b244-fb9f8ed70be5",
   "metadata": {},
   "outputs": [],
   "source": [
    "# compute gene density\n",
    "merge_table['gene_density'] = merge_table['num_genes'] / merge_table['length(Mb)']"
   ]
  },
  {
   "cell_type": "code",
   "execution_count": 65,
   "id": "c88d4801",
   "metadata": {},
   "outputs": [
    {
     "data": {
      "text/html": [
       "<div>\n",
       "<style scoped>\n",
       "    .dataframe tbody tr th:only-of-type {\n",
       "        vertical-align: middle;\n",
       "    }\n",
       "\n",
       "    .dataframe tbody tr th {\n",
       "        vertical-align: top;\n",
       "    }\n",
       "\n",
       "    .dataframe thead th {\n",
       "        text-align: right;\n",
       "    }\n",
       "</style>\n",
       "<table border=\"1\" class=\"dataframe\">\n",
       "  <thead>\n",
       "    <tr style=\"text-align: right;\">\n",
       "      <th></th>\n",
       "      <th>length</th>\n",
       "      <th>length(Mb)</th>\n",
       "      <th>num_genes</th>\n",
       "      <th>gene_density</th>\n",
       "    </tr>\n",
       "    <tr>\n",
       "      <th>chrom</th>\n",
       "      <th></th>\n",
       "      <th></th>\n",
       "      <th></th>\n",
       "      <th></th>\n",
       "    </tr>\n",
       "  </thead>\n",
       "  <tbody>\n",
       "    <tr>\n",
       "      <th>chr1</th>\n",
       "      <td>249698942</td>\n",
       "      <td>249.698942</td>\n",
       "      <td>2735</td>\n",
       "      <td>10.953190</td>\n",
       "    </tr>\n",
       "    <tr>\n",
       "      <th>chr2</th>\n",
       "      <td>242508799</td>\n",
       "      <td>242.508799</td>\n",
       "      <td>1763</td>\n",
       "      <td>7.269839</td>\n",
       "    </tr>\n",
       "    <tr>\n",
       "      <th>chr3</th>\n",
       "      <td>198450956</td>\n",
       "      <td>198.450956</td>\n",
       "      <td>1484</td>\n",
       "      <td>7.477918</td>\n",
       "    </tr>\n",
       "    <tr>\n",
       "      <th>chr4</th>\n",
       "      <td>190424264</td>\n",
       "      <td>190.424264</td>\n",
       "      <td>1068</td>\n",
       "      <td>5.608529</td>\n",
       "    </tr>\n",
       "    <tr>\n",
       "      <th>chr5</th>\n",
       "      <td>181630948</td>\n",
       "      <td>181.630948</td>\n",
       "      <td>1233</td>\n",
       "      <td>6.788491</td>\n",
       "    </tr>\n",
       "  </tbody>\n",
       "</table>\n",
       "</div>"
      ],
      "text/plain": [
       "          length  length(Mb)  num_genes  gene_density\n",
       "chrom                                                \n",
       "chr1   249698942  249.698942       2735     10.953190\n",
       "chr2   242508799  242.508799       1763      7.269839\n",
       "chr3   198450956  198.450956       1484      7.477918\n",
       "chr4   190424264  190.424264       1068      5.608529\n",
       "chr5   181630948  181.630948       1233      6.788491"
      ]
     },
     "execution_count": 65,
     "metadata": {},
     "output_type": "execute_result"
    }
   ],
   "source": [
    "merge_table.head()"
   ]
  },
  {
   "cell_type": "markdown",
   "id": "7d816d1f-73cd-46c8-8883-a48afc483e94",
   "metadata": {},
   "source": [
    "## Seaborn\n",
    "A library for the creation of statistical plots."
   ]
  },
  {
   "cell_type": "markdown",
   "id": "5f7bbe3b-3999-49c3-8d4a-fd1d1342024d",
   "metadata": {},
   "source": [
    "### Bar plot"
   ]
  },
  {
   "cell_type": "code",
   "execution_count": 66,
   "id": "6a8d00b1-6275-4dfe-98f1-32402ea1a9a5",
   "metadata": {},
   "outputs": [
    {
     "data": {
      "text/plain": [
       "<Axes: xlabel='chrom', ylabel='gene_density'>"
      ]
     },
     "execution_count": 66,
     "metadata": {},
     "output_type": "execute_result"
    },
    {
     "data": {
      "image/png": "[encoded data removed]",
      "text/plain": [
       "<Figure size 640x480 with 1 Axes>"
      ]
     },
     "metadata": {},
     "output_type": "display_data"
    }
   ],
   "source": [
    "plot_df = merge_table.reset_index()\n",
    "sns.barplot(data=plot_df, x='chrom', y='gene_density')"
   ]
  },
  {
   "cell_type": "code",
   "execution_count": 67,
   "id": "ffab0a92-bb0c-40a8-a178-91a71579f3cd",
   "metadata": {},
   "outputs": [
    {
     "data": {
      "image/png": "[encoded data removed]",
      "text/plain": [
       "<Figure size 640x480 with 1 Axes>"
      ]
     },
     "metadata": {},
     "output_type": "display_data"
    }
   ],
   "source": [
    "# rotate the x-axis labels\n",
    "sns.barplot(data=plot_df, x='chrom', y='gene_density')\n",
    "_ = plt.xticks(rotation=45)"
   ]
  },
  {
   "cell_type": "markdown",
   "id": "d5def851-d0ca-492d-953d-3c449cb64de0",
   "metadata": {},
   "source": [
    "### Scatter plot"
   ]
  },
  {
   "cell_type": "code",
   "execution_count": 68,
   "id": "1d9639fa-4523-4647-bb33-cf4b098b99f1",
   "metadata": {},
   "outputs": [
    {
     "data": {
      "text/plain": [
       "<Axes: >"
      ]
     },
     "execution_count": 68,
     "metadata": {},
     "output_type": "execute_result"
    },
    {
     "data": {
      "image/png": "[encoded data removed]",
      "text/plain": [
       "<Figure size 640x480 with 1 Axes>"
      ]
     },
     "metadata": {},
     "output_type": "display_data"
    }
   ],
   "source": [
    "sns.scatterplot(x=[1,2,3,4], y=[4,3,2,1])"
   ]
  },
  {
   "cell_type": "markdown",
   "id": "5be80215-fc11-4834-a78b-30cade339899",
   "metadata": {},
   "source": [
    "**NOW YOU TRY: Visualize the Distribution of Gene Counts and Chromosome Lengths**\n",
    "\n",
    "Task: Create a scatter plot to visualize the relationship between gene counts (x-axis) and chromosome lengths (y-axis)."
   ]
  },
  {
   "cell_type": "code",
   "execution_count": 69,
   "id": "6e2e17e3-ea44-4909-a292-75afce7065fc",
   "metadata": {},
   "outputs": [
    {
     "data": {
      "text/plain": [
       "<Axes: xlabel='num_genes', ylabel='length(Mb)'>"
      ]
     },
     "execution_count": 69,
     "metadata": {},
     "output_type": "execute_result"
    },
    {
     "data": {
      "image/png": "[encoded data removed]",
      "text/plain": [
       "<Figure size 640x480 with 1 Axes>"
      ]
     },
     "metadata": {},
     "output_type": "display_data"
    }
   ],
   "source": [
    "sns.scatterplot(data=plot_df, x='num_genes', y='length(Mb)')"
   ]
  }
 ],
 "metadata": {
  "kernelspec": {
   "display_name": "Python 3 (ipykernel)",
   "language": "python",
   "name": "python3"
  },
  "language_info": {
   "codemirror_mode": {
    "name": "ipython",
    "version": 3
   },
   "file_extension": ".py",
   "mimetype": "text/x-python",
   "name": "python",
   "nbconvert_exporter": "python",
   "pygments_lexer": "ipython3",
   "version": "3.12.8"
  }
 },
 "nbformat": 4,
 "nbformat_minor": 5
}
